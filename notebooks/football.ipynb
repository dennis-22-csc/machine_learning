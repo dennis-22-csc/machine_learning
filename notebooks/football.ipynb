{
 "cells": [
  {
   "cell_type": "code",
   "execution_count": 12,
   "id": "23998e87-ed38-4cdc-85ce-7198b1418ee9",
   "metadata": {},
   "outputs": [],
   "source": [
    "import pandas as pd\n",
    "import numpy as np\n",
    "import nfl_data_py as nfl"
   ]
  },
  {
   "cell_type": "code",
   "execution_count": 2,
   "id": "c2a2a59e-0a7e-428d-a5c5-c87f0f36f0b5",
   "metadata": {},
   "outputs": [],
   "source": [
    "%load_ext rpy2.ipython"
   ]
  },
  {
   "cell_type": "code",
   "execution_count": 13,
   "id": "978f7f47-a557-42c2-8b9e-658527cb316d",
   "metadata": {},
   "outputs": [],
   "source": [
    "%%R\n",
    "library(tidyverse)\n",
    "library(nflfastR)\n",
    "library(ggthemes)"
   ]
  },
  {
   "cell_type": "markdown",
   "id": "f77c793e-7d87-4a3e-b41b-650b9cb4456b",
   "metadata": {},
   "source": [
    "###  Load the 2021 play-by-play (pbp) data "
   ]
  },
  {
   "cell_type": "code",
   "execution_count": 4,
   "id": "9840051e-1d4e-44f1-a921-c8e740f92409",
   "metadata": {},
   "outputs": [
    {
     "name": "stdout",
     "output_type": "stream",
     "text": [
      "Note: nflreadr caches (i.e., stores a saved version) data by default.\n",
      "If you expect different output try one of the following:\n",
      "ℹ Restart your R Session or\n",
      "ℹ Run `nflreadr::.clear_cache()`.\n",
      "To disable this warning, run `options(nflreadr.verbose = FALSE)` or add it to your .Rprofile\n",
      "This message is displayed once every 8 hours.\n"
     ]
    }
   ],
   "source": [
    "%%R\n",
    "pbp_r <- load_pbp(2021)"
   ]
  },
  {
   "cell_type": "code",
   "execution_count": 8,
   "id": "3287d7b0-ab08-434f-9243-8b9483423778",
   "metadata": {},
   "outputs": [
    {
     "name": "stdout",
     "output_type": "stream",
     "text": [
      "2021 done.\n",
      "Downcasting floats.\n"
     ]
    }
   ],
   "source": [
    "# python\n",
    "pbp_py = nfl.import_pbp_data([2021])"
   ]
  },
  {
   "cell_type": "markdown",
   "id": "10a284ee-4ac8-4c8f-9188-4be76fd8d61b",
   "metadata": {},
   "source": [
    "### Filter the dataset to include only passing plays with recorded air yards (i.e., non-missing values)."
   ]
  },
  {
   "cell_type": "code",
   "execution_count": 6,
   "id": "151a5f2e-2907-4256-a05f-a30624cacba9",
   "metadata": {},
   "outputs": [],
   "source": [
    "%%R\n",
    "pbp_r_p <- pbp_r |> \n",
    "  filter(play_type == \"pass\" & !is.na(air_yards))"
   ]
  },
  {
   "cell_type": "code",
   "execution_count": 10,
   "id": "176990e3-4219-4e58-8dad-28200048b377",
   "metadata": {},
   "outputs": [],
   "source": [
    "# pthon\n",
    "filter_crit = 'play_type == \"pass\" & air_yards.notnull()'\n",
    "pbp_py_p = (\n",
    "    pbp_py.query(filter_crit)\n",
    "    .groupby([\"passer_id\", \"passer\"])\n",
    "    .agg({\"air_yards\": [\"count\", \"mean\"]})\n",
    ")"
   ]
  },
  {
   "cell_type": "markdown",
   "id": "584cbc8c-c6cb-4f98-93dc-217016c358b1",
   "metadata": {},
   "source": [
    "### Analyzing Quarterback Performance\n",
    "We'll now calculate the average depth of target (aDOT)—the mean air yards per pass—for all quarterbacks who attempted at least 100 passes with recorded depth. Since some players share the same name, we’ll group by both passer_id and passer before summarizing the data:"
   ]
  },
  {
   "cell_type": "code",
   "execution_count": 7,
   "id": "414225a6-64fc-4f0b-9d67-f97d5751917e",
   "metadata": {},
   "outputs": [
    {
     "name": "stdout",
     "output_type": "stream",
     "text": [
      "`summarise()` has grouped output by 'passer_id'. You can override using the\n",
      "`.groups` argument.\n",
      "# A tibble: 42 × 4\n",
      "# Groups:   passer_id [42]\n",
      "   passer_id  passer               n  adot\n",
      "   <chr>      <chr>            <int> <dbl>\n",
      " 1 00-0035704 D.Lock             110 10.1 \n",
      " 2 00-0029263 R.Wilson           400  9.89\n",
      " 3 00-0036945 J.Fields           268  9.87\n",
      " 4 00-0034796 L.Jackson          378  9.35\n",
      " 5 00-0036389 J.Hurts            473  9.19\n",
      " 6 00-0034855 B.Mayfield         416  8.80\n",
      " 7 00-0026498 M.Stafford         740  8.51\n",
      " 8 00-0031503 J.Winston          161  8.32\n",
      " 9 00-0029604 K.Cousins          556  8.22\n",
      "10 00-0034857 J.Allen            708  8.22\n",
      "11 00-0031280 D.Carr             676  8.13\n",
      "12 00-0031237 T.Bridgewater      426  8.04\n",
      "13 00-0035228 K.Murray           515  7.97\n",
      "14 00-0019596 T.Brady            808  7.92\n",
      "15 00-0036971 T.Lawrence         599  7.91\n",
      "16 00-0036972 M.Jones            557  7.90\n",
      "17 00-0033077 D.Prescott         638  7.84\n",
      "18 00-0036442 J.Burrow           659  7.75\n",
      "19 00-0023459 A.Rodgers          556  7.74\n",
      "20 00-0031800 T.Heinicke         491  7.70\n",
      "21 00-0032950 C.Wentz            516  7.63\n",
      "22 00-0029701 R.Tannehill        554  7.61\n",
      "23 00-0035993 T.Huntley          185  7.61\n",
      "24 00-0033119 J.Brissett         224  7.60\n",
      "25 00-0037013 Z.Wilson           382  7.55\n",
      "26 00-0036355 J.Herbert          671  7.54\n",
      "27 00-0033357 T.Hill             132  7.51\n",
      "28 00-0028118 T.Taylor           149  7.43\n",
      "29 00-0030520 M.Glennon          164  7.38\n",
      "30 00-0035710 D.Jones            360  7.33\n",
      "31 00-0036898 D.Mills            392  7.32\n",
      "32 00-0031345 J.Garoppolo        511  7.31\n",
      "33 00-0034869 S.Darnold          405  7.24\n",
      "34 00-0026143 M.Ryan             559  7.16\n",
      "35 00-0032156 T.Siemian          187  7.11\n",
      "36 00-0033873 P.Mahomes          780  7.08\n",
      "37 00-0036212 T.Tagovailoa       387  7.07\n",
      "38 00-0027973 A.Dalton           235  6.99\n",
      "39 00-0027939 C.Newton           126  6.97\n",
      "40 00-0022924 B.Roethlisberger   647  6.78\n",
      "41 00-0033106 J.Goff             489  6.44\n",
      "42 00-0034401 M.White            132  5.92\n"
     ]
    }
   ],
   "source": [
    "%%R\n",
    "pbp_r_p |> \n",
    "  group_by(passer_id, passer) |> \n",
    "  summarize(n = n(), adot = mean(air_yards)) |> \n",
    "  filter(n >= 100 & !is.na(passer)) |> \n",
    "  arrange(-adot) |> \n",
    "  print(n = Inf)"
   ]
  },
  {
   "cell_type": "code",
   "execution_count": 11,
   "id": "888eb17d-de8b-4ea9-9fe5-ff1ef3e39ff4",
   "metadata": {},
   "outputs": [
    {
     "name": "stdout",
     "output_type": "stream",
     "text": [
      "                             air_yards_count  air_yards_mean\n",
      "passer_id  passer                                           \n",
      "00-0035704 D.Lock                        110       10.063637\n",
      "00-0029263 R.Wilson                      400        9.887500\n",
      "00-0036945 J.Fields                      268        9.869403\n",
      "00-0034796 L.Jackson                     378        9.349206\n",
      "00-0036389 J.Hurts                       473        9.190275\n",
      "00-0034855 B.Mayfield                    416        8.795673\n",
      "00-0026498 M.Stafford                    740        8.508108\n",
      "00-0031503 J.Winston                     161        8.322982\n",
      "00-0029604 K.Cousins                     556        8.224820\n",
      "00-0034857 J.Allen                       708        8.224576\n",
      "00-0031280 D.Carr                        676        8.128698\n",
      "00-0031237 T.Bridgewater                 426        8.037559\n",
      "00-0035228 K.Murray                      515        7.965048\n",
      "00-0019596 T.Brady                       808        7.920792\n",
      "00-0036971 T.Lawrence                    599        7.909850\n",
      "00-0036972 M.Jones                       557        7.901257\n",
      "00-0033077 D.Prescott                    638        7.838558\n",
      "00-0036442 J.Burrow                      659        7.748103\n",
      "00-0023459 A.Rodgers                     556        7.741007\n",
      "00-0031800 T.Heinicke                    491        7.696537\n",
      "00-0032950 C.Wentz                       516        7.629845\n",
      "00-0029701 R.Tannehill                   554        7.608303\n",
      "00-0035993 T.Huntley                     185        7.605405\n",
      "00-0033119 J.Brissett                    224        7.602679\n",
      "00-0037013 Z.Wilson                      382        7.552356\n",
      "00-0036355 J.Herbert                     671        7.538003\n",
      "00-0033357 T.Hill                        132        7.507576\n",
      "00-0028118 T.Taylor                      149        7.429530\n",
      "00-0030520 M.Glennon                     164        7.378049\n",
      "00-0035710 D.Jones                       360        7.333333\n",
      "00-0036898 D.Mills                       392        7.318878\n",
      "00-0031345 J.Garoppolo                   511        7.305284\n",
      "00-0034869 S.Darnold                     405        7.239506\n",
      "00-0026143 M.Ryan                        559        7.161002\n",
      "00-0032156 T.Siemian                     187        7.106952\n",
      "00-0033873 P.Mahomes                     780        7.080769\n",
      "00-0036212 T.Tagovailoa                  387        7.067183\n",
      "00-0027973 A.Dalton                      235        6.987234\n",
      "00-0027939 C.Newton                      126        6.968254\n",
      "00-0022924 B.Roethlisberger              647        6.783617\n",
      "00-0033106 J.Goff                        489        6.441718\n",
      "00-0034401 M.White                       132        5.916667\n"
     ]
    }
   ],
   "source": [
    "# Python\n",
    "pbp_py_p.columns = list(map(\"_\".join, pbp_py_p.columns.values))\n",
    "sort_crit = \"air_yards_count > 100\"\n",
    "\n",
    "print(\n",
    "    pbp_py_p.query(sort_crit)\n",
    "    .sort_values(by=\"air_yards_mean\", ascending=False)\n",
    "    .to_string()\n",
    ")\n"
   ]
  },
  {
   "cell_type": "markdown",
   "id": "1e09b08f-71fc-492d-b943-1803a79be91a",
   "metadata": {},
   "source": [
    "The resulting aDOT values provide insight into quarterback aggressiveness, measuring how deep they tend to throw the ball. As you review the results, consider whether they align with your expectations. Are certain quarterbacks more aggressive than you thought? Could other metrics complement this analysis?"
   ]
  },
  {
   "cell_type": "markdown",
   "id": "4eca8172-3787-425d-b855-a3d381dfa716",
   "metadata": {},
   "source": [
    "## Obtaining and Filtering Data"
   ]
  },
  {
   "cell_type": "code",
   "execution_count": null,
   "id": "efba69ae-7ad6-4232-8bfe-7e57e21111e9",
   "metadata": {},
   "outputs": [
    {
     "name": "stdout",
     "output_type": "stream",
     "text": [
      "2016 done.\n",
      "2017 done.\n",
      "2018 done.\n",
      "2019 done.\n"
     ]
    }
   ],
   "source": [
    "## Python \n",
    "seasons = range(2016, 2022 + 1) \n",
    "pbp_py = nfl.import_pbp_data(seasons)"
   ]
  },
  {
   "cell_type": "code",
   "execution_count": null,
   "id": "359cc463-6009-4001-aa5e-b2435dcf7002",
   "metadata": {},
   "outputs": [],
   "source": [
    "%%R\n",
    "pbp_r <- load_pbp(2016:2022)"
   ]
  },
  {
   "cell_type": "markdown",
   "id": "05b15557-bf79-4471-95c3-43886f3d775c",
   "metadata": {},
   "source": [
    "To get the subset of data you need for this analysis, filter down to just the passing plays, which can be done with the following code:"
   ]
  },
  {
   "cell_type": "code",
   "execution_count": null,
   "id": "b89c0aaf-efc9-42e4-985a-39fc9a8643b3",
   "metadata": {},
   "outputs": [],
   "source": [
    "## Python \n",
    "pbp_py_p = \\\n",
    "    pbp_py\\\n",
    "    .query(\"play_type == 'pass' & air_yards.notnull()\")\\\n",
    "    .reset_index()"
   ]
  },
  {
   "cell_type": "code",
   "execution_count": null,
   "id": "146eb2a0-aa2a-4097-ac76-b41d07434449",
   "metadata": {},
   "outputs": [],
   "source": [
    "## R \n",
    "pbp_r_p <    pbp_r |>     filter(play_type == \"pass\" & !is.na(air_yards)) Here, play_type being equal to p"
   ]
  }
 ],
 "metadata": {
  "kernelspec": {
   "display_name": "Python 3 (ipykernel)",
   "language": "python",
   "name": "python3"
  },
  "language_info": {
   "codemirror_mode": {
    "name": "ipython",
    "version": 3
   },
   "file_extension": ".py",
   "mimetype": "text/x-python",
   "name": "python",
   "nbconvert_exporter": "python",
   "pygments_lexer": "ipython3",
   "version": "3.10.12"
  }
 },
 "nbformat": 4,
 "nbformat_minor": 5
}
