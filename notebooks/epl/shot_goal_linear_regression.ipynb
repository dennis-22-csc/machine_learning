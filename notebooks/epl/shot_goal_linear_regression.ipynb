{
 "cells": [
  {
   "cell_type": "code",
   "execution_count": 1,
   "id": "34fa8cc0-ab3c-4a65-bdfe-73fe39e9c9ff",
   "metadata": {},
   "outputs": [],
   "source": [
    "# Import necessary libraries\n",
    "import pandas as pd\n",
    "import numpy as np\n",
    "import statsmodels.formula.api as smf \n",
    "import matplotlib.pyplot as plt\n",
    "import seaborn as sns"
   ]
  },
  {
   "cell_type": "code",
   "execution_count": 2,
   "id": "431265d0-5475-463a-b433-4af957ac525f",
   "metadata": {},
   "outputs": [],
   "source": [
    "data = pd.read_csv(\"../../datasets/epl_shooting_data.csv\")"
   ]
  },
  {
   "cell_type": "code",
   "execution_count": 3,
   "id": "cf3b5109-1b14-4173-9fff-624b66ecdf22",
   "metadata": {},
   "outputs": [
    {
     "name": "stdout",
     "output_type": "stream",
     "text": [
      "<class 'pandas.core.frame.DataFrame'>\n",
      "RangeIndex: 5655 entries, 0 to 5654\n",
      "Data columns (total 27 columns):\n",
      " #   Column            Non-Null Count  Dtype \n",
      "---  ------            --------------  ----- \n",
      " 0   Rk                5655 non-null   object\n",
      " 1   Player            5655 non-null   object\n",
      " 2   Nation            5653 non-null   object\n",
      " 3   Pos               5655 non-null   object\n",
      " 4   Squad             5655 non-null   object\n",
      " 5   Age               5655 non-null   object\n",
      " 6   Born              5655 non-null   object\n",
      " 7   90s               5655 non-null   object\n",
      " 8   Gls               5655 non-null   object\n",
      " 9   Sh                5093 non-null   object\n",
      " 10  SoT               5655 non-null   object\n",
      " 11  SoT%              4246 non-null   object\n",
      " 12  Sh/90             5093 non-null   object\n",
      " 13  SoT/90            5655 non-null   object\n",
      " 14  G/Sh              4246 non-null   object\n",
      " 15  G/SoT             4036 non-null   object\n",
      " 16  Dist              3794 non-null   object\n",
      " 17  PK                5655 non-null   object\n",
      " 18  PKatt             5655 non-null   object\n",
      " 19  Matches           5655 non-null   object\n",
      " 20  season            5655 non-null   object\n",
      " 21  FK                4507 non-null   object\n",
      " 22  Expected_xG       4507 non-null   object\n",
      " 23  Expected_npxG     4507 non-null   object\n",
      " 24  Expected_npxG/Sh  3751 non-null   object\n",
      " 25  Expected_G-xG     4507 non-null   object\n",
      " 26  Expected_np:G-xG  4507 non-null   object\n",
      "dtypes: object(27)\n",
      "memory usage: 1.2+ MB\n"
     ]
    }
   ],
   "source": [
    "data.info()"
   ]
  },
  {
   "cell_type": "code",
   "execution_count": 4,
   "id": "b2b0335c-4d89-4580-8d62-8df24091f106",
   "metadata": {},
   "outputs": [
    {
     "name": "stdout",
     "output_type": "stream",
     "text": [
      "['Rk', 'Player', 'Nation', 'Pos', 'Squad', 'Age', 'Born', '90s', 'Gls', 'Sh', 'SoT', 'SoT%', 'Sh/90', 'SoT/90', 'G/Sh', 'G/SoT', 'Dist', 'PK', 'PKatt', 'Matches', 'season', 'FK', 'Expected_xG', 'Expected_npxG', 'Expected_npxG/Sh', 'Expected_G-xG', 'Expected_np:G-xG']\n"
     ]
    }
   ],
   "source": [
    "# Print the columns as a list\n",
    "print(list(data.columns))"
   ]
  },
  {
   "cell_type": "markdown",
   "id": "466b87ee-ecbd-4cd0-9042-e5f55f5c61ac",
   "metadata": {},
   "source": [
    "1. Rk -- Rank\n",
    "This is a count of the rows from top to bottom.\n",
    "2. Player -- Name of player.\n",
    "3. Nation -- Nationality of the player.\n",
    "4. Pos -- Position\n",
    "Position most commonly played by the player\n",
    "5. Squad -- Club\n",
    "6. Age -- Age at season start\n",
    "7. Born -- Year of birth\n",
    "8. 90s -- 90s Played\n",
    "90s played\n",
    "Minutes played divided by 90\n",
    "9. Gls -- Goals\n",
    "Goals scored or allowed\n",
    "10. Sh -- Shots Total\n",
    "Shots Total\n",
    "Does not include penalty kicks\n",
    "11. SoT -- Shots on Target\n",
    "Shots on Target\n",
    "Note: Shots on target do not include penalty kicks\n",
    "12. SoT% -- Shots on Target %\n",
    "Percentage of shots that are on target\n",
    "13. Sh/90 -- Shots Total/90\n",
    "Shots total per 90 minutes\n",
    "14. SoT/90 -- Shots on target/90\n",
    "Shots on target per 90 minutes\n",
    "15. G/Sh -- Goals/Shot\n",
    "Goals per shot\n",
    "16. G/SoT -- Goals/Shot on Target\n",
    "Goals per shot on target\n",
    "17. Dist -- Average Shot Distance\n",
    "Average distance, in yards, from goal of all shots taken\n",
    "18. PK -- Penalty Kicks Made\n",
    "Penalty Kicks Made\n",
    "19. PKatt -- Penalty Kicks Attempted\n",
    "Penalty Kicks Attempted\n",
    "20. Matches - matches the stats are associated with\n",
    "21. season - season the stats are associated with\n",
    "22. FK -- Shots from Free Kicks\n",
    "Shots from Free Kicks\n",
    "23. xG -- xG: Expected Goals\n",
    "Expected Goals\n",
    "xG totals include penalty kicks, but do not include penalty shootouts (unless otherwise noted).\n",
    "24. npxG -- npxG: Non-Penalty xG\n",
    "Non-Penalty Expected Goals\n",
    "25. npxG/Sh -- npxG/Shot\n",
    "Non-Penalty Expected Goals per shot\n",
    "26. G-xG -- Goals - xG\n",
    "Goals minus Expected Goals\n",
    "27. np:G-xG -- Non-Penalty Goals - npxG\n",
    "Non-Penalty Goals minus Non-Penalty Expected Goals\n"
   ]
  },
  {
   "cell_type": "code",
   "execution_count": 5,
   "id": "63cf05a9-8a59-4fa0-a83f-f5aff93f5dfd",
   "metadata": {},
   "outputs": [
    {
     "name": "stdout",
     "output_type": "stream",
     "text": [
      "Rk                     0\n",
      "Player                 0\n",
      "Nation                 2\n",
      "Pos                    0\n",
      "Squad                  0\n",
      "Age                    0\n",
      "Born                   0\n",
      "90s                    0\n",
      "Gls                    0\n",
      "Sh                   562\n",
      "SoT                    0\n",
      "SoT%                1409\n",
      "Sh/90                562\n",
      "SoT/90                 0\n",
      "G/Sh                1409\n",
      "G/SoT               1619\n",
      "Dist                1861\n",
      "PK                     0\n",
      "PKatt                  0\n",
      "Matches                0\n",
      "season                 0\n",
      "FK                  1148\n",
      "Expected_xG         1148\n",
      "Expected_npxG       1148\n",
      "Expected_npxG/Sh    1904\n",
      "Expected_G-xG       1148\n",
      "Expected_np:G-xG    1148\n",
      "dtype: int64\n"
     ]
    }
   ],
   "source": [
    "print(data.isnull().sum())"
   ]
  },
  {
   "cell_type": "code",
   "execution_count": 6,
   "id": "e867df4d-2b82-4fee-9969-5be6a26c5271",
   "metadata": {},
   "outputs": [],
   "source": [
    "# Ensure numeric data\n",
    "data[\"SoT\"] = pd.to_numeric(data[\"SoT\"], errors=\"coerce\")\n",
    "data[\"Gls\"] = pd.to_numeric(data[\"Gls\"], errors=\"coerce\")"
   ]
  },
  {
   "cell_type": "code",
   "execution_count": 7,
   "id": "c4ba5824-c344-412f-8922-22a6d729bafe",
   "metadata": {},
   "outputs": [],
   "source": [
    "# Drop any rows with missing values in SoT or Gls\n",
    "data = data.dropna(subset=[\"SoT\", \"Gls\"])"
   ]
  },
  {
   "cell_type": "markdown",
   "id": "71b0d6ad-d044-47fb-8f4e-f9fda48ab119",
   "metadata": {},
   "source": [
    "Before applying linear regression, we should:\n",
    "\n",
    "Visualize the relationship between Shots on Target and Goals Scored using a scatter plot.\n",
    "\n",
    "Compute the correlation coefficient to see how strongly these variables are related.\n",
    "\n",
    "If we observe a clear linear trend, linear regression is a good approach."
   ]
  },
  {
   "cell_type": "code",
   "execution_count": 8,
   "id": "06d33e9f-d473-4e86-aa4e-4707f74bd240",
   "metadata": {},
   "outputs": [
    {
     "data": {
      "image/png": "[encoded data removed]",
      "text/plain": [
       "<Figure size 640x480 with 1 Axes>"
      ]
     },
     "metadata": {},
     "output_type": "display_data"
    }
   ],
   "source": [
    "# Scatter plot\n",
    "sns.regplot(x=data[\"SoT\"], y=data[\"Gls\"])\n",
    "plt.xlabel(\"Shots on Target\")\n",
    "plt.ylabel(\"Goals Scored\")\n",
    "plt.title(\"Relationship Between Shots on Target and Goals Scored\")\n",
    "plt.figtext(0.5, -0.05, \"Figure 1.0: Scatter plot showing the relationship between Shots on Target and Goals Scored.\", ha=\"center\", fontsize=12)\n",
    "plt.savefig(\"../../plots/scatterplot_shots_on_target_goals_scored.png\", dpi=300, bbox_inches=\"tight\")\n",
    "plt.show()"
   ]
  },
  {
   "cell_type": "markdown",
   "id": "7f89356b-ef87-4430-bb8c-358bdec32193",
   "metadata": {},
   "source": [
    "Is there a clear linear trend?\n",
    "\n",
    "Yes, there is a clear linear trend in the scatter plot.\n",
    "\n",
    "The points generally follow an upward trend: as Shots on Target increase, Goals Scored also tend to increase. Additionally, the fitted regression line in the plot closely follows the central tendency of the data, which supports the appropriateness of applying linear regression.\n",
    "\n",
    "To confirm and quantify this linear relationship further, you should compute the correlation coefficient (e.g., Pearson’s r). A value close to +1 would confirm a strong positive linear relationship.\n",
    "\n"
   ]
  },
  {
   "cell_type": "code",
   "execution_count": 9,
   "id": "ee64f4ed-5cd1-4e3c-931f-44b2dd4f9550",
   "metadata": {},
   "outputs": [
    {
     "name": "stdout",
     "output_type": "stream",
     "text": [
      "Pearson correlation coefficient: 0.92\n"
     ]
    }
   ],
   "source": [
    "# Compute Pearson correlation coefficient\n",
    "correlation = data[\"SoT\"].corr(data[\"Gls\"])\n",
    "print(f\"Pearson correlation coefficient: {correlation:.2f}\")"
   ]
  },
  {
   "cell_type": "markdown",
   "id": "ca3946c9-dcaa-4782-8072-2e3c33572399",
   "metadata": {},
   "source": [
    "A Pearson correlation coefficient of 0.92 indicates a very strong positive linear relationship between Shots on Target and Goals Scored. This confirms what the scatter plot visually suggests: as the number of shots on target increases, the number of goals scored tends to increase almost proportionally.\n",
    "\n",
    "This strong correlation supports the use of linear regression to model this relationship effectively."
   ]
  },
  {
   "cell_type": "markdown",
   "id": "cf4d17a5-8c1a-46a5-9050-fd34e5c7b78f",
   "metadata": {},
   "source": [
    "Building the Linear Regression Model\n",
    "We use Scikit-learn to fit a simple linear regression model."
   ]
  },
  {
   "cell_type": "code",
   "execution_count": 10,
   "id": "9ef1b14d-3520-4255-ad7f-61c187b0c5a6",
   "metadata": {},
   "outputs": [
    {
     "name": "stdout",
     "output_type": "stream",
     "text": [
      "MAE: 0.83, MSE: 1.88, R²: 0.82\n"
     ]
    }
   ],
   "source": [
    "from sklearn.model_selection import train_test_split\n",
    "from sklearn.linear_model import LinearRegression\n",
    "from sklearn.metrics import mean_absolute_error, mean_squared_error, r2_score\n",
    "\n",
    "# Define features (X) and target variable (Y)\n",
    "X = data[[\"SoT\"]]  # Independent variable\n",
    "Y = data[\"Gls\"]       # Dependent variable\n",
    "\n",
    "# Split data into training and test sets (80% train, 20% test)\n",
    "X_train, X_test, Y_train, Y_test = train_test_split(X, Y, test_size=0.2, random_state=42)\n",
    "\n",
    "# Initialize and train the model\n",
    "model = LinearRegression()\n",
    "model.fit(X_train, Y_train)\n",
    "\n",
    "# Predictions\n",
    "Y_pred = model.predict(X_test)\n",
    "\n",
    "# Model evaluation\n",
    "mae = mean_absolute_error(Y_test, Y_pred)\n",
    "mse = mean_squared_error(Y_test, Y_pred)\n",
    "r2 = r2_score(Y_test, Y_pred)\n",
    "\n",
    "print(f\"MAE: {mae:.2f}, MSE: {mse:.2f}, R²: {r2:.2f}\")"
   ]
  },
  {
   "cell_type": "markdown",
   "id": "8ff6ebc6-8c2e-420f-ab02-52a2b06ab53b",
   "metadata": {},
   "source": [
    "Interpretation:\n",
    "\n",
    "    MAE (Mean Absolute Error) = 0.83: On average, the model’s predictions are off by less than 1 goal, which is quite accurate for match-level statistics.\n",
    "\n",
    "    MSE (Mean Squared Error) = 1.88: This is the average of squared differences, and while it's harder to interpret intuitively, it penalizes larger errors more strongly than MAE.\n",
    "\n",
    "    R² (R-squared) = 0.82: About 82% of the variance in Goals Scored is explained by Shots on Target, indicating the model captures most of the pattern in the data.\n",
    "\n",
    "Conclusion:\n",
    "\n",
    "This is a strong, well-performing model. There may still be room for improvement (e.g., by adding other predictors like shot quality, location, or possession stats), but Shots on Target alone is already a powerful predictor of Goals Scored."
   ]
  },
  {
   "cell_type": "markdown",
   "id": "a80916b6-ea32-4f52-9ca2-f8fa2f9c45fe",
   "metadata": {},
   "source": [
    "Predicting Goals scored using the model"
   ]
  },
  {
   "cell_type": "code",
   "execution_count": 12,
   "id": "2cdfd9a7-9129-469d-ad74-610fa37f4aa6",
   "metadata": {},
   "outputs": [
    {
     "name": "stdout",
     "output_type": "stream",
     "text": [
      "Predicted Goals Scored for 25 shots on target: 9.05\n"
     ]
    }
   ],
   "source": [
    "# Predicting for a single value\n",
    "shots = pd.DataFrame({\"SoT\": [25]})\n",
    "predicted_goals = model.predict(shots)\n",
    "print(f\"Predicted Goals Scored for 25 shots on target: {predicted_goals[0]:.2f}\")"
   ]
  },
  {
   "cell_type": "code",
   "execution_count": 13,
   "id": "925f618b-ecfe-4e11-9b61-2cc3cc68874b",
   "metadata": {},
   "outputs": [
    {
     "name": "stdout",
     "output_type": "stream",
     "text": [
      "Average actual goals for ~25 SoT: 9.21\n"
     ]
    }
   ],
   "source": [
    "# Filter rows with SoT around 25 (e.g., ±1)\n",
    "subset = data[(data[\"SoT\"] >= 24) & (data[\"SoT\"] <= 26)]\n",
    "\n",
    "# Average actual goals for those cases\n",
    "actual_avg = subset[\"Gls\"].mean()\n",
    "print(f\"Average actual goals for ~25 SoT: {actual_avg:.2f}\")\n"
   ]
  },
  {
   "cell_type": "markdown",
   "id": "05937199-fdee-4ff9-a9dc-539cd003bb77",
   "metadata": {},
   "source": [
    "The model predicted 9.05 goals for 25 shots on target, while the actual average from the data is 9.21 goals.\n",
    "✅ What this tells us:\n",
    "\n",
    "    The model's prediction is very close to the real-world average — just 0.16 goals off.\n",
    "\n",
    "    That’s well within the model's MAE of 0.83, so it’s behaving exactly as expected.\n",
    "\n",
    "    This confirms the regression model is making reliable, data-aligned predictions."
   ]
  },
  {
   "cell_type": "markdown",
   "id": "b82ef0a5-053f-4846-be1d-906002b9c1f5",
   "metadata": {},
   "source": [
    "Predicting for multiple values:"
   ]
  },
  {
   "cell_type": "code",
   "execution_count": 14,
   "id": "78705436-b9b5-4058-8034-8dffccd62f85",
   "metadata": {},
   "outputs": [
    {
     "name": "stdout",
     "output_type": "stream",
     "text": [
      "[ 3.44948196  7.18268155 10.91588114 14.64908073]\n"
     ]
    }
   ],
   "source": [
    "new_shots = pd.DataFrame({\"SoT\": [10, 20, 30, 40]})\n",
    "predicted_goals = model.predict(new_shots)\n",
    "print(predicted_goals)"
   ]
  },
  {
   "cell_type": "code",
   "execution_count": 15,
   "id": "75b06c7b-46df-49d4-8612-4a50f2e64a91",
   "metadata": {},
   "outputs": [
    {
     "name": "stdout",
     "output_type": "stream",
     "text": [
      "SoT: 10 | Predicted: 3.45 | Actual Avg: 2.86 | Difference: 0.59\n",
      "SoT: 20 | Predicted: 7.18 | Actual Avg: 6.63 | Difference: 0.56\n",
      "SoT: 30 | Predicted: 10.92 | Actual Avg: 11.16 | Difference: 0.24\n",
      "SoT: 40 | Predicted: 14.65 | Actual Avg: 15.56 | Difference: 0.91\n"
     ]
    }
   ],
   "source": [
    "# Compare predictions with actual averages from the data\n",
    "for sot, pred in zip(new_shots[\"SoT\"], predicted_goals):\n",
    "    # Filter rows in the dataset within ±1 of the current SoT\n",
    "    nearby = data[(data[\"SoT\"] >= sot - 1) & (data[\"SoT\"] <= sot + 1)]\n",
    "    actual_avg = nearby[\"Gls\"].mean()\n",
    "    print(f\"SoT: {sot} | Predicted: {pred:.2f} | Actual Avg: {actual_avg:.2f} | Difference: {abs(pred - actual_avg):.2f}\")\n"
   ]
  },
  {
   "cell_type": "code",
   "execution_count": null,
   "id": "dc3071cb-f85d-41bf-8c85-fa9fd12be99b",
   "metadata": {},
   "outputs": [],
   "source": []
  }
 ],
 "metadata": {
  "kernelspec": {
   "display_name": "Python 3 (ipykernel)",
   "language": "python",
   "name": "python3"
  },
  "language_info": {
   "codemirror_mode": {
    "name": "ipython",
    "version": 3
   },
   "file_extension": ".py",
   "mimetype": "text/x-python",
   "name": "python",
   "nbconvert_exporter": "python",
   "pygments_lexer": "ipython3",
   "version": "3.10.12"
  }
 },
 "nbformat": 4,
 "nbformat_minor": 5
}
