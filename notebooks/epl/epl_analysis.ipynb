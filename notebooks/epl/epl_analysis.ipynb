{
 "cells": [
  {
   "cell_type": "markdown",
   "id": "40e1e5fc-f5a2-4ff6-8c90-c65a1950ff01",
   "metadata": {},
   "source": [
    "## Defining Hypotheses\n",
    "\n",
    "- Shooting from close-range is more valuable than shooting from distance\n",
    "- The performance of long-range shots is less stable season by season than the performance of short-range shots"
   ]
  },
  {
   "cell_type": "markdown",
   "id": "8c48b852-402b-480d-97c3-6dedc4baa24a",
   "metadata": {},
   "source": [
    "## Obtaining Data\n",
    "\n",
    "To study the stability of shooting data, we scraped shooting data from https://fbref.com from the 2015/2016 season to the current 2024/2025 season.\n",
    "Starting from the 2015/2016 season is largely an arbitaryy choice.\n",
    "This data was saved to a csv file and loaded thus."
   ]
  },
  {
   "cell_type": "code",
   "execution_count": 1,
   "id": "25bac2ea-15e8-498a-a4c6-470e688e4078",
   "metadata": {},
   "outputs": [],
   "source": [
    "# Import necessary libraries\n",
    "import pandas as pd\n",
    "import numpy as np\n",
    "import statsmodels.formula.api as smf \n",
    "import matplotlib.pyplot as plt\n",
    "import seaborn as sns\n",
    "\n",
    "# Set visualization style\n",
    "sns.set_theme(style=\"whitegrid\", palette=\"colorblind\")"
   ]
  },
  {
   "cell_type": "code",
   "execution_count": 2,
   "id": "e837e93e-cf97-4641-800e-c62fdc266e6e",
   "metadata": {},
   "outputs": [],
   "source": [
    "data = pd.read_csv(\"../../datasets/epl_shooting_data.csv\")"
   ]
  },
  {
   "cell_type": "markdown",
   "id": "a0db4f17-4d34-4990-a860-f26b40bafa32",
   "metadata": {},
   "source": [
    "## Exploring Data"
   ]
  },
  {
   "cell_type": "code",
   "execution_count": 3,
   "id": "ba6e6299-2a32-4e28-9b4d-5c8c5336b6c6",
   "metadata": {},
   "outputs": [
    {
     "name": "stdout",
     "output_type": "stream",
     "text": [
      "<class 'pandas.core.frame.DataFrame'>\n",
      "RangeIndex: 5655 entries, 0 to 5654\n",
      "Data columns (total 27 columns):\n",
      " #   Column            Non-Null Count  Dtype \n",
      "---  ------            --------------  ----- \n",
      " 0   Rk                5655 non-null   object\n",
      " 1   Player            5655 non-null   object\n",
      " 2   Nation            5653 non-null   object\n",
      " 3   Pos               5655 non-null   object\n",
      " 4   Squad             5655 non-null   object\n",
      " 5   Age               5655 non-null   object\n",
      " 6   Born              5655 non-null   object\n",
      " 7   90s               5655 non-null   object\n",
      " 8   Gls               5655 non-null   object\n",
      " 9   Sh                5093 non-null   object\n",
      " 10  SoT               5655 non-null   object\n",
      " 11  SoT%              4246 non-null   object\n",
      " 12  Sh/90             5093 non-null   object\n",
      " 13  SoT/90            5655 non-null   object\n",
      " 14  G/Sh              4246 non-null   object\n",
      " 15  G/SoT             4036 non-null   object\n",
      " 16  Dist              3794 non-null   object\n",
      " 17  PK                5655 non-null   object\n",
      " 18  PKatt             5655 non-null   object\n",
      " 19  Matches           5655 non-null   object\n",
      " 20  season            5655 non-null   object\n",
      " 21  FK                4507 non-null   object\n",
      " 22  Expected_xG       4507 non-null   object\n",
      " 23  Expected_npxG     4507 non-null   object\n",
      " 24  Expected_npxG/Sh  3751 non-null   object\n",
      " 25  Expected_G-xG     4507 non-null   object\n",
      " 26  Expected_np:G-xG  4507 non-null   object\n",
      "dtypes: object(27)\n",
      "memory usage: 1.2+ MB\n"
     ]
    }
   ],
   "source": [
    "data.info()"
   ]
  },
  {
   "cell_type": "markdown",
   "id": "53d790ab-23c9-456e-8ac8-ebf25f4a4321",
   "metadata": {},
   "source": [
    "#### Analysis and Interpretation\n",
    "\n",
    "The dataset has 5655 rows and 27 columns.\n",
    "All columns are of type object, meaning they are all strings. \n",
    "The dataframe uses about 1.2+ MB of memory."
   ]
  },
  {
   "cell_type": "markdown",
   "id": "9d9e7752-0d56-433c-b12b-c0152156bcf0",
   "metadata": {},
   "source": [
    "### Printing Column Names"
   ]
  },
  {
   "cell_type": "code",
   "execution_count": 4,
   "id": "63aa2f3f-87df-43c6-87aa-53d18deb0bcf",
   "metadata": {},
   "outputs": [
    {
     "name": "stdout",
     "output_type": "stream",
     "text": [
      "['Rk', 'Player', 'Nation', 'Pos', 'Squad', 'Age', 'Born', '90s', 'Gls', 'Sh', 'SoT', 'SoT%', 'Sh/90', 'SoT/90', 'G/Sh', 'G/SoT', 'Dist', 'PK', 'PKatt', 'Matches', 'season', 'FK', 'Expected_xG', 'Expected_npxG', 'Expected_npxG/Sh', 'Expected_G-xG', 'Expected_np:G-xG']\n"
     ]
    }
   ],
   "source": [
    "# Print the columns as a list\n",
    "print(list(data.columns))"
   ]
  },
  {
   "cell_type": "markdown",
   "id": "0a4d4580-f2a5-449f-982f-c5da9fed2459",
   "metadata": {},
   "source": [
    "1. Rk -- Rank\n",
    "This is a count of the rows from top to bottom.\n",
    "2. Player -- Name of player.\n",
    "3. Nation -- Nationality of the player.\n",
    "4. Pos -- Position\n",
    "Position most commonly played by the player\n",
    "5. Squad -- Club\n",
    "6. Age -- Age at season start\n",
    "7. Born -- Year of birth\n",
    "8. 90s -- 90s Played\n",
    "90s played\n",
    "Minutes played divided by 90\n",
    "9. Gls -- Goals\n",
    "Goals scored or allowed\n",
    "10. Sh -- Shots Total\n",
    "Shots Total\n",
    "Does not include penalty kicks\n",
    "11. SoT -- Shots on Target\n",
    "Shots on Target\n",
    "Note: Shots on target do not include penalty kicks\n",
    "12. SoT% -- Shots on Target %\n",
    "Percentage of shots that are on target\n",
    "13. Sh/90 -- Shots Total/90\n",
    "Shots total per 90 minutes\n",
    "14. SoT/90 -- Shots on target/90\n",
    "Shots on target per 90 minutes\n",
    "15. G/Sh -- Goals/Shot\n",
    "Goals per shot\n",
    "16. G/SoT -- Goals/Shot on Target\n",
    "Goals per shot on target\n",
    "17. Dist -- Average Shot Distance\n",
    "Average distance, in yards, from goal of all shots taken\n",
    "18. PK -- Penalty Kicks Made\n",
    "Penalty Kicks Made\n",
    "19. PKatt -- Penalty Kicks Attempted\n",
    "Penalty Kicks Attempted\n",
    "20. Matches - matches the stats are associated with\n",
    "21. season - season the stats are associated with\n",
    "22. FK -- Shots from Free Kicks\n",
    "Shots from Free Kicks\n",
    "23. xG -- xG: Expected Goals\n",
    "Expected Goals\n",
    "xG totals include penalty kicks, but do not include penalty shootouts (unless otherwise noted).\n",
    "24. npxG -- npxG: Non-Penalty xG\n",
    "Non-Penalty Expected Goals\n",
    "25. npxG/Sh -- npxG/Shot\n",
    "Non-Penalty Expected Goals per shot\n",
    "26. G-xG -- Goals - xG\n",
    "Goals minus Expected Goals\n",
    "27. np:G-xG -- Non-Penalty Goals - npxG\n",
    "Non-Penalty Goals minus Non-Penalty Expected Goals\n"
   ]
  },
  {
   "cell_type": "markdown",
   "id": "8f9ac099-2260-4d6e-a6ac-43954870ab9e",
   "metadata": {},
   "source": [
    "### Viewing the First Rows"
   ]
  },
  {
   "cell_type": "code",
   "execution_count": 5,
   "id": "4752f07b-7c64-4163-b044-422b8a91c7c4",
   "metadata": {},
   "outputs": [
    {
     "name": "stdout",
     "output_type": "stream",
     "text": [
      "  Rk               Player   Nation Pos          Squad Age  Born   90s Gls  \\\n",
      "0  1  Patrick van Aanholt   nl NED  DF     Sunderland  24  1990  33.0   4   \n",
      "1  2       Rolando Aarons  eng ENG  MF  Newcastle Utd  19  1995   4.2   1   \n",
      "2  3           Almen Abdi   ch SUI  MF        Watford  28  1986  21.9   2   \n",
      "3  4        Tammy Abraham  eng ENG  FW        Chelsea  17  1997   0.6   0   \n",
      "4  5         Charlie Adam  sct SCO  MF     Stoke City  29  1985  11.6   1   \n",
      "\n",
      "    Sh  ... PK PKatt  Matches     season   FK Expected_xG Expected_npxG  \\\n",
      "0  NaN  ...  0     0  Matches  2015-2016  NaN         NaN           NaN   \n",
      "1  NaN  ...  0     0  Matches  2015-2016  NaN         NaN           NaN   \n",
      "2  NaN  ...  0     0  Matches  2015-2016  NaN         NaN           NaN   \n",
      "3  NaN  ...  0     0  Matches  2015-2016  NaN         NaN           NaN   \n",
      "4  NaN  ...  0     0  Matches  2015-2016  NaN         NaN           NaN   \n",
      "\n",
      "  Expected_npxG/Sh Expected_G-xG Expected_np:G-xG  \n",
      "0              NaN           NaN              NaN  \n",
      "1              NaN           NaN              NaN  \n",
      "2              NaN           NaN              NaN  \n",
      "3              NaN           NaN              NaN  \n",
      "4              NaN           NaN              NaN  \n",
      "\n",
      "[5 rows x 27 columns]\n"
     ]
    }
   ],
   "source": [
    "# Print the first 5 rows of the DataFrame 'data'\n",
    "print(data.head())"
   ]
  },
  {
   "cell_type": "markdown",
   "id": "2aa1beba-39d2-4dd1-a22b-cc4be56a7285",
   "metadata": {},
   "source": [
    "### Checking columns with missing values"
   ]
  },
  {
   "cell_type": "code",
   "execution_count": 6,
   "id": "b3c9fd0d-12b3-4ee9-a222-755b8f3415bf",
   "metadata": {},
   "outputs": [
    {
     "name": "stdout",
     "output_type": "stream",
     "text": [
      "Rk                     0\n",
      "Player                 0\n",
      "Nation                 2\n",
      "Pos                    0\n",
      "Squad                  0\n",
      "Age                    0\n",
      "Born                   0\n",
      "90s                    0\n",
      "Gls                    0\n",
      "Sh                   562\n",
      "SoT                    0\n",
      "SoT%                1409\n",
      "Sh/90                562\n",
      "SoT/90                 0\n",
      "G/Sh                1409\n",
      "G/SoT               1619\n",
      "Dist                1861\n",
      "PK                     0\n",
      "PKatt                  0\n",
      "Matches                0\n",
      "season                 0\n",
      "FK                  1148\n",
      "Expected_xG         1148\n",
      "Expected_npxG       1148\n",
      "Expected_npxG/Sh    1904\n",
      "Expected_G-xG       1148\n",
      "Expected_np:G-xG    1148\n",
      "dtype: int64\n"
     ]
    }
   ],
   "source": [
    "print(data.isnull().sum())"
   ]
  },
  {
   "cell_type": "markdown",
   "id": "3aa3c592-5308-4dca-a7c9-ebc09259ce17",
   "metadata": {},
   "source": [
    "### Printing the player column"
   ]
  },
  {
   "cell_type": "code",
   "execution_count": 7,
   "id": "36bb22aa-ca97-41b7-9bb9-99ffa3af1065",
   "metadata": {},
   "outputs": [
    {
     "name": "stdout",
     "output_type": "stream",
     "text": [
      "0       Patrick van Aanholt\n",
      "1            Rolando Aarons\n",
      "2                Almen Abdi\n",
      "3             Tammy Abraham\n",
      "4              Charlie Adam\n",
      "               ...         \n",
      "5650         Illia Zabarnyi\n",
      "5651    Oleksandr Zinchenko\n",
      "5652                 Player\n",
      "5653         Joshua Zirkzee\n",
      "5654        Martin Ødegaard\n",
      "Name: Player, Length: 5655, dtype: object\n"
     ]
    }
   ],
   "source": [
    "print(data[\"Player\"])"
   ]
  },
  {
   "cell_type": "markdown",
   "id": "d65f8fb8-da6c-4421-aa78-2f58d1bc4c1f",
   "metadata": {},
   "source": [
    "### Printing the total number of players"
   ]
  },
  {
   "cell_type": "code",
   "execution_count": 8,
   "id": "f12a1575-35a2-489d-bac9-33a283a499b0",
   "metadata": {},
   "outputs": [
    {
     "name": "stdout",
     "output_type": "stream",
     "text": [
      "1892\n"
     ]
    }
   ],
   "source": [
    "print(data[\"Player\"].nunique())"
   ]
  },
  {
   "cell_type": "markdown",
   "id": "a2f32313-0631-40f1-90e2-7ee2889a3e5e",
   "metadata": {},
   "source": [
    "## Filtering Data \n",
    "\n",
    "There are 213 NaN values in the Dist column and 1148 NaN values in the Expected_npxG column, we will drop the associated rows."
   ]
  },
  {
   "cell_type": "code",
   "execution_count": 9,
   "id": "7deb817f-ca9e-46ab-805b-c7862fffd595",
   "metadata": {},
   "outputs": [],
   "source": [
    "data = data.dropna(subset=[\"Dist\", \"Expected_npxG\"])"
   ]
  },
  {
   "cell_type": "markdown",
   "id": "7cad5030-ad3a-4676-a3fc-57beb36ae64a",
   "metadata": {},
   "source": [
    "## Feature Engineering\n",
    "\n",
    "Here, we categorize average shot distance for each player into long and short and put it in a new feature shot length."
   ]
  },
  {
   "cell_type": "code",
   "execution_count": 10,
   "id": "bcdb89cd-eb19-4b4b-8f9f-216c446b9190",
   "metadata": {},
   "outputs": [],
   "source": [
    "# Convert 'Dist' column to numeric, coercing errors to NaN (if any conversion fails)\n",
    "data = data.copy()  # Ensure it's an independent copy\n",
    "data[\"Dist\"] = pd.to_numeric(data[\"Dist\"], errors='coerce')\n",
    "\n",
    "# Categorise average shot distance \n",
    "data[\"shot_length\"] = np.where(data[\"Dist\"] >= 18, \"long\", \"short\")"
   ]
  },
  {
   "cell_type": "markdown",
   "id": "ae886481-50dd-4a44-9887-ff2a4173dd4f",
   "metadata": {},
   "source": [
    "## Summarizing Data \n",
    "\n",
    "Briefly we examined some basic numbers used to describe the shooting distance data."
   ]
  },
  {
   "cell_type": "code",
   "execution_count": 11,
   "id": "b53676c8-d8a1-4f80-8122-18adf421a2a0",
   "metadata": {},
   "outputs": [
    {
     "data": {
      "text/plain": [
       "count    3581.000000\n",
       "mean       17.339933\n",
       "std         5.425552\n",
       "min         0.900000\n",
       "25%        13.400000\n",
       "50%        17.100000\n",
       "75%        21.000000\n",
       "max        56.100000\n",
       "Name: Dist, dtype: float64"
      ]
     },
     "execution_count": 11,
     "metadata": {},
     "output_type": "execute_result"
    }
   ],
   "source": [
    "data[\"Dist\"].describe()"
   ]
  },
  {
   "cell_type": "markdown",
   "id": "e07e009a-4584-4bdb-ac94-d672006a1ae7",
   "metadata": {},
   "source": [
    "#### Analysis and Interpretation of Results\n",
    "- The count is the number of records in the dataset spanning nine seasons. There are 3581 shooting distance data in the dataset.\n",
    "- The mean is the average of this data. What this tells us is that on average, every player shot 17 yards.\n",
    "- The std is the standard deviation. The standard deviation (std) of 5.4 yards tells us how much the shooting distances of players typically vary from the average (which is 17 yards). Because the data is normally distributed (see fig 1.0), using the empirical rule (68-95-99.7 rule), which applies to data that follows a normal distribution (or approximately normal), Most shots (about 68% if the data is normally distributed) are within one standard deviation of the mean—so between 11.6 yards (17 - 5.4) and 22.4 yards (17 + 5.4). About 95% of shots are within two standard deviations—so between 6.2 yards (17 - 2 × 5.4) and 27.8 yards (17 + 2 × 5.4).\n",
    "- The min is the minimum shooting distance in the records. The minimum shooting distance is therefore 0.9 yards? Which player shot that?\n",
    "- The 25%, 50%, and 75% numbers represent the quartiles of the shooting distance data. If we divide the shooting distance data into four equal halves, 25% (Q1) = 13.4 yards → A quarter of the shots were taken from 13.4 yards or less. 50% (Q2 / Median) = 17.1 yards → Half of the shots were taken from 17.1 yards or less. This is the middle value of the dataset. 75% (Q3) = 21.0 yards → Three-quarters of the shots were taken from 21 yards or less.\n",
    "- The max is the maximum shooting distance in the records. A value of 56.10 mean a player shot up to that but no player shot more than that in the nine season under consideration. Which player shot that?\n",
    "\n",
    " \n",
    "\n"
   ]
  },
  {
   "cell_type": "markdown",
   "id": "82b9764c-583a-4b09-8c62-daef01e45e45",
   "metadata": {},
   "source": [
    "#### Who shot from 56.10 yards? Did more than two players shoot 56.10 yards?"
   ]
  },
  {
   "cell_type": "code",
   "execution_count": 12,
   "id": "a97668ac-1954-4804-a56e-674db44b1696",
   "metadata": {},
   "outputs": [
    {
     "name": "stdout",
     "output_type": "stream",
     "text": [
      "                 Player  Dist\n",
      "2656  Kasper Schmeichel  56.1\n",
      "Number of players who shot from 56 yards: 1\n"
     ]
    }
   ],
   "source": [
    "shot_56 = data[data[\"Dist\"] == 56.10]\n",
    "print(shot_56[[\"Player\", \"Dist\"]])\n",
    "print(f\"Number of players who shot from 56 yards: {len(shot_56)}\")"
   ]
  },
  {
   "cell_type": "markdown",
   "id": "bc36a6fb-0a3f-41aa-92a2-139f7ec89f39",
   "metadata": {},
   "source": [
    "#### Who shot from 0.9 yards? Did more than two players shoot 0.9 yards?"
   ]
  },
  {
   "cell_type": "code",
   "execution_count": 13,
   "id": "228ddb5b-6b32-4061-a1be-d372ca9b9ee2",
   "metadata": {},
   "outputs": [
    {
     "name": "stdout",
     "output_type": "stream",
     "text": [
      "             Player  Dist\n",
      "1408  Ragnar Klavan   0.9\n",
      "Number of players who shot from 0.9 yards: 1\n"
     ]
    }
   ],
   "source": [
    "shot_09 = data[data[\"Dist\"] == 0.9]\n",
    "print(shot_09[[\"Player\", \"Dist\"]])\n",
    "print(f\"Number of players who shot from 0.9 yards: {len(shot_09)}\")"
   ]
  },
  {
   "cell_type": "markdown",
   "id": "e7ce6b90-d19f-481e-ba8b-3ce920ca751d",
   "metadata": {},
   "source": [
    "####  Detecting outliers in the \"Dist\" (shooting distance) column using the 1.5 × IQR rule"
   ]
  },
  {
   "cell_type": "code",
   "execution_count": 14,
   "id": "fdc4598b-de81-481a-9907-a7172b102490",
   "metadata": {},
   "outputs": [
    {
     "name": "stdout",
     "output_type": "stream",
     "text": [
      "                  Player           Squad  Dist\n",
      "1292         Tom Edwards      Stoke City  34.1\n",
      "1408       Ragnar Klavan       Liverpool   0.9\n",
      "1429     Victor Lindelöf  Manchester Utd  34.4\n",
      "1489        Tyrone Mings     Bournemouth  35.7\n",
      "1523          Allan Nyom       West Brom  35.3\n",
      "1669          Ben Watson         Watford  32.9\n",
      "1927     Stefan Johansen          Fulham  33.2\n",
      "2578       Jeremy Ngakia        West Ham  33.2\n",
      "2656   Kasper Schmeichel  Leicester City  56.1\n",
      "2812        Ross Barkley         Chelsea  35.9\n",
      "2988      José Izquierdo        Brighton  32.6\n",
      "3002            Jorginho         Chelsea  47.9\n",
      "3037  Maxime Le Marchand          Fulham  34.1\n",
      "3087      James McCarthy  Crystal Palace  32.5\n",
      "3335      Daniel Amartey  Leicester City  34.1\n",
      "3567            Jorginho         Chelsea  32.6\n",
      "3771       Morgan Sanson     Aston Villa  33.2\n",
      "4153            Jorginho         Chelsea  34.1\n",
      "4875      Oliver Norwood   Sheffield Utd  32.9\n",
      "4936            Tim Ream          Fulham   1.3\n",
      "5086    Emmanuel Agbadou          Wolves  35.3\n",
      "5594   Takehiro Tomiyasu         Arsenal   1.2\n"
     ]
    }
   ],
   "source": [
    "# Extract shooting distance column\n",
    "distances = data[\"Dist\"]\n",
    "\n",
    "# Calculate Q1, Q3, and IQR\n",
    "Q1 = distances.quantile(0.25)\n",
    "Q3 = distances.quantile(0.75)\n",
    "IQR = Q3 - Q1\n",
    "\n",
    "# Compute lower and upper bounds for outliers\n",
    "lower_bound = Q1 - (1.5 * IQR)\n",
    "upper_bound = Q3 + (1.5 * IQR)\n",
    "\n",
    "# Identify outliers\n",
    "outliers = data[(distances < lower_bound) | (distances > upper_bound)]\n",
    "\n",
    "# Display outliers\n",
    "print(outliers[[\"Player\", \"Squad\", \"Dist\"]])  # Show only relevant columns"
   ]
  },
  {
   "cell_type": "markdown",
   "id": "97615874-df24-49bc-8df3-5452a17512ce",
   "metadata": {},
   "source": [
    "#### **Analysis and Interpretation**\n",
    "\n",
    "##### **1. Outlier Characteristics**\n",
    "- The identified outliers have shooting distances that are either exceptionally **long-range (≥32.5 yards)** or **very close-range (≤1.5 yards)**.\n",
    "- **Extremely long-range shots** (e.g., Kasper Schmeichel at 56.1 yards, Jorginho at 47.9 yards) often indicate goalkeepers or defensive players attempting shots from their own half.\n",
    "- **Extremely short-range shots** (e.g., Takehiro Tomiyasu at 1.2 yards, Tim Ream at 1.3 yards) typically occur in goalmouth situations, possibly tap-ins or rebounds.\n",
    "\n",
    "##### **2. Players with Long-Range Shooting Distances**\n",
    "- **Defensive Players & Midfielders:** Many outliers with long-range shots (e.g., Jorginho, Oliver Norwood, Tom Edwards) are midfielders or defenders, who tend to attempt speculative long shots.\n",
    "- **Goalkeepers:** Kasper Schmeichel's 56.1-yard shot stands out as an unusual event, possibly a clearance or an attempt from deep in his own half.\n",
    "\n",
    "##### **3. Players with Short-Range Shooting Distances**\n",
    "- **Close-Range Finishers:** Tim Ream and Takehiro Tomiyasu's extremely short shooting distances suggest they were involved in goalmouth action, possibly from set-piece situations.\n",
    "- **Rare Events:** Defenders and midfielders appearing in this category may indicate unique in-game situations rather than a consistent shooting pattern."
   ]
  },
  {
   "cell_type": "markdown",
   "id": "b78a39ad-6550-4708-a9ae-a7b65c92d715",
   "metadata": {},
   "source": [
    "#### Descriptive statistics for short distance shots"
   ]
  },
  {
   "cell_type": "code",
   "execution_count": 15,
   "id": "e1f592ee-08a5-4373-bf26-8bba845ce45d",
   "metadata": {},
   "outputs": [
    {
     "data": {
      "text/plain": [
       "count    2023.000000\n",
       "mean       13.520415\n",
       "std         3.023560\n",
       "min         0.900000\n",
       "25%        11.400000\n",
       "50%        13.900000\n",
       "75%        16.050000\n",
       "max        17.900000\n",
       "Name: Dist, dtype: float64"
      ]
     },
     "execution_count": 15,
     "metadata": {},
     "output_type": "execute_result"
    }
   ],
   "source": [
    "data\\\n",
    "    .query('shot_length == \"short\"')[\"Dist\"]\\\n",
    "    .describe()"
   ]
  },
  {
   "cell_type": "markdown",
   "id": "4d0265df-f03a-4a95-b5a4-bb297e863761",
   "metadata": {},
   "source": [
    "#### Analysis and Interpretation of Results\n",
    "- The count is the number of records in the dataset spanning nine seasons. There are 2023 shooting distance data that qualifies as short distanced in the dataset.\n",
    "- The mean is the average of this data. What this tells us is that on average, every short distanced shot fired by a player is about 13 yards.\n",
    "- The std is the standard deviation. The standard deviation (std) of 3 yards tells us how much the shooting distances of players for short distanced shots typically vary from the average (which is 13 yards). \n",
    "- The min is the minimum shooting distance for short distanced shots in the records. The minimum shooting distance is therefore 0.9 yards.\n",
    "- The 25%, 50%, and 75% numbers represent the quartiles of the shooting distance data. If we divide the shooting distance data for short distanced shots into four equal halves, 25% (Q1) = 11.4 yards → A quarter of the shots were taken from 11.4 yards or less. 50% (Q2 / Median) = 13.9 yards → Half of the shots were taken from 13.9 yards or less. This is the middle value of the dataset. 75% (Q3) = 16.1 yards → Three-quarters of the shots were taken from 16 yards or less.\n",
    "- The max is the maximum shooting distance for short distanced shots in the records. The maximum shooting distance is therefore 17.90 yards. Who shot it?\n"
   ]
  },
  {
   "cell_type": "markdown",
   "id": "c02b273e-a0a6-4823-9a7e-4c67cc022ebd",
   "metadata": {},
   "source": [
    "#### Who shot from 17.9 yards (short)? Did more than two players shoot 17.9 yards?"
   ]
  },
  {
   "cell_type": "code",
   "execution_count": 16,
   "id": "155af10a-32ec-4885-9e58-ae64d3fbeb85",
   "metadata": {},
   "outputs": [
    {
     "name": "stdout",
     "output_type": "stream",
     "text": [
      "                    Player  Dist\n",
      "1402          Jonjoe Kenny  17.9\n",
      "1460            João Mário  17.9\n",
      "2194     Aaron Wan-Bissaka  17.9\n",
      "2645           Bukayo Saka  17.9\n",
      "3107           Jakub Moder  17.9\n",
      "3138           Josh Onomah  17.9\n",
      "3379           Emi Buendía  17.9\n",
      "3391            Matty Cash  17.9\n",
      "3453    Abdoulaye Doucouré  17.9\n",
      "3542        Ki-Jana Hoever  17.9\n",
      "3634          Riyad Mahrez  17.9\n",
      "3678           Mason Mount  17.9\n",
      "3918      Stuart Armstrong  17.9\n",
      "4081       Conor Gallagher  17.9\n",
      "4151          Curtis Jones  17.9\n",
      "4253          James Milner  17.9\n",
      "4361  Albert Sambi Lokonga  17.9\n",
      "4779           Emil Krafth  17.9\n",
      "4877         Matheus Nunes  17.9\n",
      "4906         João Palhinha  17.9\n",
      "5138        Philip Billing  17.9\n",
      "5579    Dominik Szoboszlai  17.9\n",
      "5595         Sandro Tonali  17.9\n",
      "Number of players who shot from 17.9 yards: 23\n"
     ]
    }
   ],
   "source": [
    "shot_179 = data[(data[\"Dist\"] == 17.90) & (data[\"shot_length\"] == \"short\")]\n",
    "print(shot_179[[\"Player\", \"Dist\"]])\n",
    "print(f\"Number of players who shot from 17.9 yards: {len(shot_179)}\")"
   ]
  },
  {
   "cell_type": "markdown",
   "id": "38f62252-5704-44f2-a265-23a9fd7fc3db",
   "metadata": {},
   "source": [
    "#### Descriptive statistics for long distance shots"
   ]
  },
  {
   "cell_type": "code",
   "execution_count": 17,
   "id": "60cda899-3f5e-4138-8e43-e6ed14ca6f58",
   "metadata": {},
   "outputs": [
    {
     "data": {
      "text/plain": [
       "count    1558.000000\n",
       "mean       22.299422\n",
       "std         3.499128\n",
       "min        18.000000\n",
       "25%        19.700000\n",
       "50%        21.600000\n",
       "75%        24.200000\n",
       "max        56.100000\n",
       "Name: Dist, dtype: float64"
      ]
     },
     "execution_count": 17,
     "metadata": {},
     "output_type": "execute_result"
    }
   ],
   "source": [
    "data\\\n",
    "    .query('shot_length == \"long\"')[\"Dist\"]\\\n",
    "    .describe()"
   ]
  },
  {
   "cell_type": "markdown",
   "id": "6dbaf11e-f075-4de7-9aa3-afe52612f3fe",
   "metadata": {},
   "source": [
    "#### Analysis and Interpretation of Results\n",
    "- The count is the number of records in the dataset spanning nine seasons. There are 1558 shooting distance data that qualifies as long distanced in the dataset.\n",
    "- The mean is the average of this data. What this tells us is that on average, every long distanced shot fired by a player is about 22 yards.\n",
    "- The std is the standard deviation. The standard deviation (std) of 3.5 yards tells us how much the shooting distances of players for long distanced shots typically vary from the average (which is 22 yards). \n",
    "- The min is the minimum shooting distance for long distanced shots in the records. The minimum shooting distance is therefore 18 yards. Who shot it?\n",
    "- The 25%, 50%, and 75% numbers represent the quartiles of the shooting distance data. If we divide the shooting distance data for long distanced shots into four equal halves, 25% (Q1) = 19.7 yards → A quarter of the shots were taken from 19.7 yards or less. 50% (Q2 / Median) = 21.6 yards → Half of the shots were taken from 21.6 yards or less. This is the middle value of the dataset. 75% (Q3) = 24.2 yards → Three-quarters of the shots were taken from 24.2 yards or less.\n",
    "- The max is the maximum shooting distance for long distanced shots in the records."
   ]
  },
  {
   "cell_type": "markdown",
   "id": "d9c8ef4d-553f-4878-8e9a-0f693da19945",
   "metadata": {},
   "source": [
    "#### Who shot from exactly 18 yards (long)? Did more than two players shoot 18 yards?"
   ]
  },
  {
   "cell_type": "code",
   "execution_count": 18,
   "id": "e1ec5497-579a-4736-ae26-bbff5882187a",
   "metadata": {},
   "outputs": [
    {
     "name": "stdout",
     "output_type": "stream",
     "text": [
      "                      Player  Dist\n",
      "1189         Michy Batshuayi  18.0\n",
      "1207           Wilfried Bony  18.0\n",
      "1838     Mohamed Elyounoussi  18.0\n",
      "1882             Pascal Groß  18.0\n",
      "1893             Eden Hazard  18.0\n",
      "1916       Kelechi Iheanacho  18.0\n",
      "2285            Jarrod Bowen  18.0\n",
      "2516  Ainsley Maitland-Niles  18.0\n",
      "2827            Sander Berge  18.0\n",
      "3415               Jack Cork  18.0\n",
      "3446             Lucas Digne  18.0\n",
      "3493             Ryan Fraser  18.0\n",
      "3528         Bruno Guimarães  18.0\n",
      "3549       Kelechi Iheanacho  18.0\n",
      "3704            Frank Onyeka  18.0\n",
      "3722              Paul Pogba  18.0\n",
      "4062              João Félix  18.0\n",
      "4602           Matheus Cunha  18.0\n",
      "4608        Mikkel Damsgaard  18.0\n",
      "4739           Vitaly Janelt  18.0\n",
      "5043            Fabio Vieira  18.0\n",
      "5045                 Vitinho  18.0\n",
      "5050               Joel Ward  18.0\n",
      "Number of players who shot from 18 yards: 23\n"
     ]
    }
   ],
   "source": [
    "shot_18 = data[(data[\"Dist\"] == 18.0) & (data[\"shot_length\"] == \"long\")]\n",
    "print(shot_18[[\"Player\", \"Dist\"]])\n",
    "print(f\"Number of players who shot from 18 yards: {len(shot_18)}\")"
   ]
  },
  {
   "cell_type": "markdown",
   "id": "05afac6b-facb-418b-aef7-33d386ddc62d",
   "metadata": {},
   "source": [
    "## Plotting Data"
   ]
  },
  {
   "cell_type": "markdown",
   "id": "3c200972-2144-4a31-b938-c3e63d28ded4",
   "metadata": {},
   "source": [
    "### Histograms"
   ]
  },
  {
   "cell_type": "code",
   "execution_count": 19,
   "id": "feee18fc-73b5-4d26-af7e-ce61c7407f35",
   "metadata": {},
   "outputs": [
    {
     "data": {
      "image/png": "[encoded data removed]",
      "text/plain": [
       "<Figure size 500x500 with 1 Axes>"
      ]
     },
     "metadata": {},
     "output_type": "display_data"
    }
   ],
   "source": [
    "sns.displot(data=data, x=\"Dist\");\n",
    "plt.figtext(0.5, -0.05, \"Figure 1.0: Distribution of Average Shot Distance\", ha=\"center\", fontsize=12)\n",
    "plt.savefig(\"../../plots/shot_distance_distribution.png\", dpi=300, bbox_inches=\"tight\")\n",
    "plt.show();"
   ]
  },
  {
   "cell_type": "markdown",
   "id": "19481542-3bfb-49f6-af27-2eea9e34cfbd",
   "metadata": {},
   "source": [
    "#### Analysis and Interpretation\n",
    "##### Shape:\n",
    "The distribution appears to be roughly normal, with a peak around **15-20 yards** and a slight skew towards longer distances.\n",
    "\n",
    "##### Insights:\n",
    "- Most shots occur between **10 to 25 yards**.\n",
    "- The presence of some **longer shots (above 30 yards)** suggests a few outliers, but they are relatively rare.\n",
    "- This suggests that players take most of their shots from **mid-range** rather than extreme short or long distances.\n"
   ]
  },
  {
   "cell_type": "code",
   "execution_count": 20,
   "id": "c6519e02-a025-49af-b32e-dc28454d53c8",
   "metadata": {},
   "outputs": [
    {
     "data": {
      "image/png": "[encoded data removed]",
      "text/plain": [
       "<Figure size 500x500 with 1 Axes>"
      ]
     },
     "metadata": {},
     "output_type": "display_data"
    }
   ],
   "source": [
    "data_short = \\\n",
    "    data\\\n",
    "    .query('shot_length == \"short\"')\n",
    "data_hist_short = \\\n",
    "       sns.displot(data=data_short,\n",
    "                binwidth=1,\n",
    "                x=\"Dist\");\n",
    "data_hist_short\\\n",
    "    .set_axis_labels(\"Short Distance Shots (in yards)\", \"Count\"\n",
    "        );\n",
    "plt.figtext(0.5, -0.05, \"Figure 1.1: Distribution of Short Distance Shots\", ha=\"center\", fontsize=12)\n",
    "plt.savefig(\"../../plots/short_distance_shots_distribution.png\", dpi=300, bbox_inches=\"tight\")\n",
    "plt.show();"
   ]
  },
  {
   "cell_type": "markdown",
   "id": "0adcada4-cebb-4cb8-b37e-161570215314",
   "metadata": {},
   "source": [
    "#### Analysis and Interpretation\n",
    "\n",
    "##### Shape:\n",
    "This distribution is **positively skewed (right-skewed)**, meaning that as distance increases, the frequency of shots also increases.\n",
    "\n",
    "##### Insights:\n",
    "- A significant portion of shots happens at distances between **10 to 18 yards**.\n",
    "- The increasing trend suggests that players prefer taking shots from **further out** within the short-range category, possibly just outside the penalty area.\n",
    "- Very few shots are taken from **extremely close range (under 5 yards)**, which could indicate defensive pressure or limited shooting opportunities near the goal.\n"
   ]
  },
  {
   "cell_type": "code",
   "execution_count": 21,
   "id": "61bdfe26-7cbb-40f4-8509-f08f54ef21f7",
   "metadata": {},
   "outputs": [
    {
     "data": {
      "image/png": "[encoded data removed]",
      "text/plain": [
       "<Figure size 500x500 with 1 Axes>"
      ]
     },
     "metadata": {},
     "output_type": "display_data"
    }
   ],
   "source": [
    "data_long = \\\n",
    "    data\\\n",
    "    .query('shot_length == \"long\"')\n",
    "data_hist_long = \\\n",
    "       sns.displot(data=data_long,\n",
    "                binwidth=1,\n",
    "                x=\"Dist\");\n",
    "data_hist_long\\\n",
    "    .set_axis_labels(\"Long Distance Shots (in yards)\", \"Count\"\n",
    "        );\n",
    "plt.figtext(0.5, -0.05, \"Figure 1.2: Distribution of Long Distance Shots\", ha=\"center\", fontsize=12)\n",
    "plt.savefig(\"../../plots/long_distance_shots_distribution.png\", dpi=300, bbox_inches=\"tight\")\n",
    "plt.show();"
   ]
  },
  {
   "cell_type": "markdown",
   "id": "4a9ddfa6-3429-481d-a7fd-3b02b1d99735",
   "metadata": {},
   "source": [
    "#### Analysis and Interpretation\n",
    "\n",
    "##### Shape:\n",
    "This distribution is **negatively skewed (left-skewed)**, meaning the frequency of shots decreases as distance increases.\n",
    "\n",
    "##### Insights:\n",
    "- The highest frequency of long-distance shots occurs just above **20 yards**.\n",
    "- The number of shots significantly drops as the distance increases, meaning players **rarely attempt shots beyond 30 yards**.\n",
    "- This is expected since **long-range shots** have lower accuracy and conversion rates, making them less favorable."
   ]
  },
  {
   "cell_type": "markdown",
   "id": "f6f0e975-a1e7-430e-befd-4dd0ddd6017a",
   "metadata": {},
   "source": [
    "### Boxplots"
   ]
  },
  {
   "cell_type": "code",
   "execution_count": 22,
   "id": "8f114d83-2985-415d-afbb-8da8c87e257f",
   "metadata": {},
   "outputs": [
    {
     "data": {
      "image/png": "[encoded data removed]",
      "text/plain": [
       "<Figure size 640x480 with 1 Axes>"
      ]
     },
     "metadata": {},
     "output_type": "display_data"
    }
   ],
   "source": [
    "shot_boxplot = \\\n",
    "    sns.boxplot(data=data,\n",
    "                x=\"shot_length\",\n",
    "                y=\"Dist\");\n",
    "shot_boxplot.set(xlabel=\"Shot distance (long >= 18 yards, short < 18 yards)\",\n",
    "    ylabel=\"Shot Distance (in yards)\",\n",
    ");\n",
    "plt.figtext(0.5, -0.05, \n",
    "    \"Figure 1.3: Boxplot of shot distances categorized as long (≥18 yards) and short (<18 yards)\", \n",
    "    ha=\"center\", fontsize=12)\n",
    "plt.savefig(\"../../plots/boxplot_shot_distances.png\", dpi=300, bbox_inches=\"tight\")\n",
    "plt.show();"
   ]
  },
  {
   "cell_type": "markdown",
   "id": "d7030fe8-b242-4de1-a915-21403910077a",
   "metadata": {},
   "source": [
    "#### **Analysis and Interpretation**\n",
    "- **Summary:** The boxplot categorizes shot distances into two groups: \"short\" (<18 yards) and \"long\" (≥18 yards).\n",
    "- **Observations:**\n",
    "  - The median shot distance for \"short\" shots is around 13-14 yards, with an interquartile range (IQR) roughly between 10 and 17 yards.\n",
    "  - The median for \"long\" shots is approximately 22-24 yards, with a wider IQR.\n",
    "  - \"Long\" shots have significantly more outliers beyond 30 yards, some exceeding 50 yards.\n",
    "  - \"Short\" shots also have outliers below 5 yards.\n",
    "- **Insights:**\n",
    "  - The distribution of \"long\" shots is more spread out, suggesting greater variation in shot selection from distance.\n",
    "  - There are extreme long-distance shots, which could indicate rare attempts from very far.\n",
    "  - Short shots are more clustered, meaning they are generally taken from more predictable distances.\n"
   ]
  },
  {
   "cell_type": "markdown",
   "id": "c24c5c3c-cf0a-4675-b21d-cf4d82786ace",
   "metadata": {},
   "source": [
    "## 📌 Player-Level Stability of Shot Quality per Attempt\n",
    "\n",
    "### 🎯 Objective:\n",
    "To analyze how consistently players generate quality chances (measured by **Expected Goals**, or **xG**) relative to how often they shoot, grouped by **shot type** (long or short) and **season**.\n",
    "\n",
    "---\n",
    "\n",
    "### 🔍 Data Summary and Feature Description\n",
    "\n",
    "#### 🧮 Grouping Data:\n",
    "We group the dataset by **player**, **season**, and **shot length** (`short` vs `long`) to compute:\n",
    "- Total number of shots (`Sh`)\n",
    "- Total non-penalty expected goals (`Expected_npxG`)\n",
    "\n",
    "Then we calculate:\n",
    "\n",
    "#### ⚖️ `xg_per_shot`:\n",
    "This metric represents the **average quality of a shot**, based on the expected goal value per attempt.  \n",
    "- A higher `xg_per_shot` suggests that the player typically shoots from positions with a higher chance of scoring.\n",
    "- A lower value may reflect **long-range efforts**, poor shot selection, or shots taken under pressure."
   ]
  },
  {
   "cell_type": "code",
   "execution_count": 23,
   "id": "a2c098d7-d366-44a6-a1ce-36f81c66934a",
   "metadata": {},
   "outputs": [
    {
     "name": "stdout",
     "output_type": "stream",
     "text": [
      "              Player     season shot_length  xg_per_shot  Sh\n",
      "3252        Tim Ream  2023-2024       short          1.0   1\n",
      "2797   Ragnar Klavan  2017-2018       short          0.9   1\n",
      "841   DeAndre Yedlin  2019-2020       short          0.8   1\n",
      "370       Ben Gibson  2018-2019       short          0.7   1\n",
      "65        Adam Smith  2024-2025       short          0.6   1\n"
     ]
    }
   ],
   "source": [
    "# Grouping by player and season and shot length\n",
    "data_s = data.groupby([\"Player\", \"season\", \"shot_length\"])\\\n",
    "    .agg({\n",
    "        \"Expected_npxG\": \"sum\",  # Total expected goals (non-penalty)\n",
    "        \"Sh\": \"sum\"              # Total shots\n",
    "    })\n",
    "\n",
    "# Ensure data types are correct\n",
    "data_s['Sh'] = pd.to_numeric(data_s['Sh'], errors='coerce').fillna(0).astype(int)\n",
    "data_s['Expected_npxG'] = pd.to_numeric(data_s['Expected_npxG'], errors='coerce').fillna(0)\n",
    "\n",
    "# Compute Expected Goals per Shot (xG/Shot)\n",
    "data_s['xg_per_shot'] = data_s['Expected_npxG'] / data_s['Sh']\n",
    "data_s['xg_per_shot'] = data_s['xg_per_shot'].fillna(0)\n",
    "\n",
    "# Reset index to make 'Player' and 'season' columns available\n",
    "data_s = data_s.reset_index()\n",
    "\n",
    "# Sort by xG per shot\n",
    "data_s = data_s.sort_values(by=\"xg_per_shot\", ascending=False)\n",
    "\n",
    "# Display results\n",
    "print(data_s[['Player', 'season', 'shot_length', 'xg_per_shot', 'Sh']].head())"
   ]
  },
  {
   "cell_type": "markdown",
   "id": "2c8fc32c-1fc2-4766-b610-4681411168d6",
   "metadata": {},
   "source": [
    "#### 🗂️ **What Each Column Means:**\n",
    "\n",
    "- **`Player`**: The footballer who took the shots.\n",
    "- **`season`**: The season during which the shots were taken.\n",
    "- **`shot_length`**: Whether the shot was from a **long** or **short** distance (based on a threshold like 18 yards).\n",
    "- **`xg_per_shot`**: The average **expected goal value** per shot.\n",
    "- **`Sh`**: Total number of shots taken in that category for that player-season.\n",
    "\n",
    "---\n",
    "\n",
    "#### ❗ Observations:\n",
    "- All top entries have **only 1 shot**, leading to a high `xg_per_shot` value. This suggests:\n",
    "  - These shots were taken from **very close range** (e.g., tap-ins).\n",
    "  - The small sample size makes it unreliable to draw broader conclusions.\n",
    "- Many players listed are **defenders** (or even goalkeepers), indicating these are likely **one-off chances**, such as a corner scramble or late-game opportunity.\n",
    "\n",
    "---\n",
    "\n",
    "#### 🔎 What This Tells Us:\n",
    "- While `xg_per_shot` is a **useful efficiency metric**, it's most meaningful when players have taken **multiple shots**.\n",
    "- Sorting by this metric without considering the number of attempts can **inflate the impact of outliers**.\n",
    "- It’s a good idea to follow up by filtering players with **at least 50 or 100 shots** to analyze more consistent contributors."
   ]
  },
  {
   "cell_type": "markdown",
   "id": "5e1ee8c1-3d4b-4e01-862c-1dfc56577951",
   "metadata": {},
   "source": [
    "#### Filtering Players with at least 100 attempts (shots)"
   ]
  },
  {
   "cell_type": "code",
   "execution_count": 24,
   "id": "999ce7e5-8105-4d4d-b4fb-c7f7ab133959",
   "metadata": {},
   "outputs": [
    {
     "name": "stdout",
     "output_type": "stream",
     "text": [
      "               Player     season shot_length  xg_per_shot   Sh\n",
      "1046   Erling Haaland  2023-2024       short     0.202655  113\n",
      "1045   Erling Haaland  2022-2023       short     0.198276  116\n",
      "1151    Gabriel Jesus  2019-2020       short     0.174000  100\n",
      "933   Dominic Solanke  2023-2024       short     0.162264  106\n",
      "2427    Mohamed Salah  2017-2018       short     0.159155  142\n"
     ]
    }
   ],
   "source": [
    "# Filter for players with at least 100 shots\n",
    "data_s_100 = data_s.query(\"Sh >= 100\")\n",
    "\n",
    "# Sort by xG per shot\n",
    "data_s_100_sorted = data_s_100.sort_values(by=\"xg_per_shot\", ascending=False)\n",
    "\n",
    "# Display top players\n",
    "print(data_s_100_sorted[['Player', 'season', 'shot_length', 'xg_per_shot', 'Sh']].head())"
   ]
  },
  {
   "cell_type": "markdown",
   "id": "86ac3d10-b1df-488a-acae-38a1e6b93bbb",
   "metadata": {},
   "source": [
    "#### **Breakdown of the Output**\n",
    "\n",
    "1. **`Player`**:  \n",
    "   The name of the player.\n",
    "\n",
    "2. **`season`**:  \n",
    "   The specific season in which the performance data was recorded (e.g., 2023-2024).\n",
    "\n",
    "3. **`shot_length`**:  \n",
    "   Categorization of shot distances—here focused on “short” range shots.\n",
    "\n",
    "4. **`xg_per_shot`**:  \n",
    "   Average **expected goals generated per shot**. This provides insight into shot quality rather than just volume.  \n",
    "   - For instance, **Erling Haaland (2023-2024)** had an xG/Shot of **0.20**, meaning each of his shots had, on average, a 20% chance of scoring.\n",
    "\n",
    "5. **`Sh` (Shots)**:  \n",
    "   The total number of shots taken by the player during that season. Players in this table all had **at least 100 attempts**, making their xG/Shot values statistically more reliable than single-shot outliers.\n",
    "\n",
    "---\n",
    "\n",
    "### **Key Observations**\n",
    "\n",
    "1. **High xG per Shot with High Volume**  \n",
    "   - Players like **Erling Haaland**, **Gabriel Jesus**, and **Dominic Solanke** exhibit **both quality and quantity**—they consistently take a lot of shots and do so from advantageous positions.\n",
    "   - Their **xG per shot ranges from ~0.16 to 0.20**, indicating strong positioning and efficient shot selection.\n",
    "\n",
    "2. **Consistency Across Seasons**  \n",
    "   - Haaland appears in multiple seasons with similar xG/Shot values, reflecting a consistently high standard in shot quality and offensive output.\n",
    "\n",
    "3. **High Shot Volume = Offensive Centrality**  \n",
    "   - These players play a central role in their team’s attack. High shot counts (100+) suggest they're frequently involved in build-up and finishing sequences.\n",
    "\n",
    "4. **Short-Range Focus**  \n",
    "   - The dominance of the “short” shot_length category among top performers further suggests that players who take more shots closer to goal tend to generate higher xG per attempt—underscoring the value of proximity and shot location.\n",
    "\n",
    "---\n",
    "\n",
    "### **Next Steps and Deeper Analysis**\n",
    "\n",
    "- **Shot Maps and Heatmaps**: Visualize where players take their shots from to understand spatial tendencies behind their xG efficiency.\n",
    "- **Compare with Goal Conversion**: Analyze how well xG per shot aligns with actual goals scored per shot to identify under- or overperformers.\n",
    "- **Track Across Seasons**: Monitor whether players maintain or improve their xG/Shot ratios over multiple seasons for insights into development and consistency.\n",
    "\n",
    "We explored the later in the next section."
   ]
  },
  {
   "cell_type": "markdown",
   "id": "d72886d5-b1f0-4fa1-8251-4114e8b2bff8",
   "metadata": {},
   "source": [
    "## **Stability Analysis of Long-Range vs. Short-Range Shot Performance**\n",
    "\n",
    "In this analysis, we examine whether the performance of **long-range shots** is less stable than **short-range shots** season by season. To assess this, we focus on the **Expected Goals per Shot (xG per shot)** for each player across multiple seasons, differentiating between long and short shots.\n",
    "\n",
    "---\n",
    "\n",
    "#### **Steps to Evaluate Stability:**\n",
    "\n",
    "1. **Calculate xG per Shot for Each Player in Each Season**:  \n",
    "   For each player, we calculate **Expected Goals per Shot (xG per shot)** for both short and long-range shots during each season. This is the **Expected Non-penalty xG (Expected_npxG)** divided by the number of shots taken (**Sh**) for each shot length (short or long).\n",
    "\n",
    "2. **Calculate xG per Shot for the Previous Season**:  \n",
    "   We then compute the **xG per shot** for the previous season of each player. This allows us to compare the player's performance in one season with that of the next, giving us insight into any fluctuations in their shooting efficiency.\n",
    "\n",
    "3. **Analyze the Correlation Between Current and Previous Season’s xG per Shot**:  \n",
    "   Finally, we assess the **correlation** between the **current season’s xG per shot** and the **previous season’s xG per shot**. A strong positive correlation would indicate that a player's shooting performance is consistent from one season to the next, while a weak correlation suggests greater variability. This analysis is particularly useful for distinguishing between **long-range** and **short-range shots**, as these may show different levels of stability.\n",
    "---\n",
    "\n",
    "#### **Data Processing and Calculation of xG per Shot**\n",
    "\n",
    "1. **Data Grouping**:  \n",
    "   The data is grouped by **player**, **season**, and **shot length** (short or long), aggregating **Expected Non-penalty xG (Expected_npxG)** and **shots (Sh)**.\n",
    "\n",
    "2. **Numeric Data Handling**:  \n",
    "   To ensure the values are suitable for analysis, the **Expected_npxG** and **Sh** columns are converted to numeric types, with any non-numeric values coerced to `NaN` and then filled accordingly.\n",
    "\n",
    "3. **Calculation of xG per Shot**:  \n",
    "   The **xG per shot** is calculated by dividing **Expected_npxG** by **Sh**, and any missing values are filled with zero to ensure complete data.\n",
    "\n",
    "4. **Filtering Players**:  \n",
    "   Only players who have sufficient shot volume are considered for further analysis. The filter is set to include players with at least:\n",
    "   - **100 shots** for **short-range shots**\n",
    "   - **30 shots** for **long-range shots**\n",
    "\n",
    "5. **Lagging Data for Comparison**:  \n",
    "   A copy of the data is created for the **previous season’s performance**, with the season adjusted by adding 1 to the start year. This allows for direct comparison between the current and previous season's **xG per shot**.\n",
    "\n",
    "6. **Merging Current and Lagged Data**:  \n",
    "   The current and lagged data sets are merged on the player, season, and shot length to create a final dataset with both **current and previous season xG per shot** for comparison."
   ]
  },
  {
   "cell_type": "code",
   "execution_count": 25,
   "id": "e4a3b5f4-9abc-41a2-9dea-e0f38c381fc1",
   "metadata": {},
   "outputs": [],
   "source": [
    "# Group by player, season, and shot length\n",
    "data_s_pl = data.groupby([\"Player\", \"season\", \"shot_length\"])\\\n",
    "    .agg({\n",
    "        \"Expected_npxG\": \"sum\",\n",
    "        \"Sh\": \"sum\"\n",
    "    })\n",
    "\n",
    "# Ensure numeric types\n",
    "data_s_pl['Expected_npxG'] = pd.to_numeric(data_s_pl['Expected_npxG'], errors='coerce').fillna(0)\n",
    "data_s_pl['Sh'] = pd.to_numeric(data_s_pl['Sh'], errors='coerce').fillna(0).astype(int)\n",
    "\n",
    "# Compute xG per shot\n",
    "data_s_pl['xg_per_shot'] = data_s_pl['Expected_npxG'] / data_s_pl['Sh']\n",
    "data_s_pl['xg_per_shot'] = data_s_pl['xg_per_shot'].fillna(0)\n",
    "\n",
    "# Reset index\n",
    "data_s_pl = data_s_pl.reset_index()\n",
    "\n",
    "# Filter players with sufficient shot volume\n",
    "q_value = '(Sh >= 100 & shot_length == \"short\") | (Sh >= 30 & shot_length == \"long\")'\n",
    "data_s_pl = data_s_pl.query(q_value).reset_index(drop=True)\n",
    "\n",
    "# Create a copy for lagging season data\n",
    "shots_xg_py = data_s_pl[[\"Player\", \"season\", \"shot_length\", \"xg_per_shot\"]].copy()\n",
    "shots_xg_lag_py = shots_xg_py.copy()\n",
    "\n",
    "# Adjust season for lag (next year's performance)\n",
    "shots_xg_lag_py[\"start_year\"] = shots_xg_lag_py[\"season\"].str.split('-').str[0].astype(int)\n",
    "shots_xg_lag_py[\"start_year\"] += 1\n",
    "shots_xg_lag_py[\"season\"] = shots_xg_lag_py[\"start_year\"].astype(str) + '-' + (shots_xg_lag_py[\"start_year\"] + 1).astype(str)\n",
    "shots_xg_lag_py = shots_xg_lag_py.drop(columns=\"start_year\")\n",
    "\n",
    "# Rename for merging\n",
    "shots_xg_lag_py.rename(columns={'xg_per_shot': 'xg_per_shot_last'}, inplace=True)\n",
    "\n",
    "# Merge current and lagged performance\n",
    "data_s_pl = shots_xg_py.merge(\n",
    "    shots_xg_lag_py,\n",
    "    how='inner',\n",
    "    on=['Player', 'season', 'shot_length']\n",
    ")"
   ]
  },
  {
   "cell_type": "code",
   "execution_count": 26,
   "id": "b487ae58-7657-4e40-b4a2-19d4c98bedc3",
   "metadata": {},
   "outputs": [
    {
     "name": "stdout",
     "output_type": "stream",
     "text": [
      "Number of players with valid consecutive seasons: 72\n"
     ]
    }
   ],
   "source": [
    "# Result: players with both current and past season data for xG per shot\n",
    "print(f\"Number of players with valid consecutive seasons: {len(data_s_pl.Player.unique())}\")"
   ]
  },
  {
   "cell_type": "markdown",
   "id": "dc575e91-e87e-495f-b31c-c0f939091089",
   "metadata": {},
   "source": [
    "### Scatterplot of stability data"
   ]
  },
  {
   "cell_type": "code",
   "execution_count": 27,
   "id": "f4a841c5-2197-4f9c-8157-23973e2f40b9",
   "metadata": {},
   "outputs": [
    {
     "data": {
      "image/png": "[encoded data removed]",
      "text/plain": [
       "<Figure size 1000x500 with 2 Axes>"
      ]
     },
     "metadata": {},
     "output_type": "display_data"
    }
   ],
   "source": [
    "sns.lmplot(data=data_s_pl,\n",
    "           x=\"xg_per_shot\",\n",
    "           y=\"xg_per_shot_last\",\n",
    "           col=\"shot_length\");\n",
    "plt.figtext(0.5, -0.05, \n",
    "    \"Figure 1.4: Stability of Xg including a trendline\", \n",
    "    ha=\"center\", fontsize=12)\n",
    "plt.savefig(\"../../plots/scatterplot_shot_distances.png\", dpi=300, bbox_inches=\"tight\")\n",
    "plt.show();"
   ]
  },
  {
   "cell_type": "markdown",
   "id": "3566fb9b-7054-44e4-bcec-9c925737ce73",
   "metadata": {},
   "source": [
    "#### **Analysis and Interpretation**\n",
    "- **Summary:** The scatterplot visualizes the relationship between `xg_per_shot` and `xg_per_shot_last`, separately for **long** and **short** shots.\n",
    "- **Observations:**\n",
    "  - For **long shots**, there is a positive trend, but the data is quite scattered, reinforcing the weak correlation seen in the matrix.\n",
    "  - For **short shots**, the points are tightly clustered around the trendline, indicating much stronger consistency between current and past xG per shot.\n",
    "- **Insights:**\n",
    "  - Long shot efficiency varies widely across time, suggesting that external factors—like shot distance, defensive pressure, and game context—may heavily influence outcomes.\n",
    "  - Short shots tend to yield more stable xG values, reflecting higher predictability in performance.\n",
    "  - For modeling or decision-making based on prior performance (e.g., scouting, player evaluation), **xG from short shots is a more reliable and stable indicator** than from long shots."
   ]
  },
  {
   "cell_type": "markdown",
   "id": "ba83438a-b827-4117-8c40-850d9e276bc8",
   "metadata": {},
   "source": [
    "### Correlation Matrix of Xg for long and short ranged shots"
   ]
  },
  {
   "cell_type": "code",
   "execution_count": 28,
   "id": "f3ea37dc-be37-44ab-9d73-34d04997216f",
   "metadata": {},
   "outputs": [
    {
     "name": "stdout",
     "output_type": "stream",
     "text": [
      "                              xg_per_shot  xg_per_shot_last\n",
      "shot_length                                                \n",
      "long        xg_per_shot          1.000000          0.443187\n",
      "            xg_per_shot_last     0.443187          1.000000\n",
      "short       xg_per_shot          1.000000          0.965200\n",
      "            xg_per_shot_last     0.965200          1.000000\n"
     ]
    },
    {
     "data": {
      "image/png": "[encoded data removed]",
      "text/plain": [
       "<Figure size 800x600 with 2 Axes>"
      ]
     },
     "metadata": {},
     "output_type": "display_data"
    }
   ],
   "source": [
    "# Calculate the correlation matrix\n",
    "corr_matrix = data_s_pl\\\n",
    "    .query(\"xg_per_shot.notnull() & xg_per_shot_last.notnull()\")\\\n",
    "    .groupby(\"shot_length\")[[\"xg_per_shot\", \"xg_per_shot_last\"]]\\\n",
    "    .corr()\n",
    "print(corr_matrix)\n",
    "\n",
    "# Plot heatmap\n",
    "plt.figure(figsize=(8, 6))\n",
    "sns.heatmap(corr_matrix, annot=True, cmap=\"coolwarm\", fmt=\".2f\", cbar=True)\n",
    "plt.title(\"Correlation Matrix between xg_per_shot and xg_per_shot_last\")\n",
    "plt.figtext(0.5, -0.05, \"Figure 1.5: Correlation matrix showing the relationship between xg_per_shot and xg_per_shot_last by shot length.\", \n",
    "            ha=\"center\", fontsize=12)\n",
    "plt.savefig(\"../../plots/correlation_matrix_yp.png\", dpi=300, bbox_inches=\"tight\")\n",
    "plt.show()"
   ]
  },
  {
   "cell_type": "markdown",
   "id": "13314b00-ef73-4683-ad5d-f119b779410a",
   "metadata": {},
   "source": [
    "#### **Analysis and Interpretation**\n",
    "- **Summary:** This heatmap illustrates the correlation between current `xg_per_shot` and past `xg_per_shot_last` for short and long shots.\n",
    "- **Observations:**\n",
    "  - The correlation between long shot xG per shot and its past value is **0.44**, indicating a weak-to-moderate relationship.\n",
    "  - The correlation for short shot xG per shot and its past value is significantly higher at **0.97**, suggesting strong stability over time.\n",
    "- **Insights:**\n",
    "  - Short shots show much stronger consistency in efficiency compared to long shots.\n",
    "  - Long shot xG is less predictable from previous values, likely due to greater variability influenced by situational factors like distance, angle, or defensive pressure.\n",
    "  - For predictive modeling or performance evaluation, focusing on short shots offers a more **reliable and stable indicator** of a player's finishing ability."
   ]
  },
  {
   "cell_type": "markdown",
   "id": "258948cd-684e-4a5e-a2fb-5ef52f2a01fd",
   "metadata": {},
   "source": [
    "### xG (Expected Goals) for the top 10 players for long and short shots taken during two specific seasons (2022-2023 and 2023-2024)"
   ]
  },
  {
   "cell_type": "markdown",
   "id": "20dfd386-f87b-46bd-ba95-b483635d3920",
   "metadata": {},
   "source": [
    "#### Leaderboard for 2022-2023 long-ranged shooting xG"
   ]
  },
  {
   "cell_type": "code",
   "execution_count": 29,
   "id": "b9f70046-3727-4940-900a-20c84aa43cbb",
   "metadata": {},
   "outputs": [
    {
     "name": "stdout",
     "output_type": "stream",
     "text": [
      "                     Player  xg_per_shot\n",
      "76          Martin Ødegaard     0.106452\n",
      "4       Alexis Mac Allister     0.091250\n",
      "67          Kevin De Bruyne     0.086154\n",
      "15          Bruno Fernandes     0.085556\n",
      "25             Demarai Gray     0.082456\n",
      "46           James Maddison     0.079518\n",
      "27            Dwight McNeil     0.076087\n",
      "51        James Ward-Prowse     0.062500\n",
      "102         Pierre Højbjerg     0.060606\n",
      "122  Trent Alexander-Arnold     0.060000\n"
     ]
    }
   ],
   "source": [
    "print(data_s_pl\\\n",
    "    .query('shot_length == \"long\" & season == \"2022-2023\"'\n",
    "        )[[\"Player\", \"xg_per_shot\"]]\\\n",
    "    .sort_values([\"xg_per_shot\"], ascending=False)\\\n",
    "    .head(10))"
   ]
  },
  {
   "cell_type": "markdown",
   "id": "bc7d383a-0e7a-41f1-a36c-b0e08b478207",
   "metadata": {},
   "source": [
    "#### Leaderboard for 2022-2023 short-ranged shooting xG"
   ]
  },
  {
   "cell_type": "code",
   "execution_count": 30,
   "id": "20d0e1d3-a48b-46f9-a817-9a008c5da452",
   "metadata": {},
   "outputs": [
    {
     "name": "stdout",
     "output_type": "stream",
     "text": [
      "           Player  xg_per_shot\n",
      "89  Mohamed Salah     0.152893\n",
      "39     Harry Kane     0.134677\n",
      "21   Daniel James     0.000000\n"
     ]
    }
   ],
   "source": [
    "print(data_s_pl\\\n",
    "    .query('shot_length == \"short\" & season == \"2022-2023\"'\n",
    "        )[[\"Player\", \"xg_per_shot\"]]\\\n",
    "    .sort_values([\"xg_per_shot\"], ascending=False)\\\n",
    "    .head(10))"
   ]
  },
  {
   "cell_type": "markdown",
   "id": "05c5de7e-16e4-48c9-8395-f4d689319070",
   "metadata": {},
   "source": [
    "#### Leaderboard for 2023-2024 long-ranged shooting xG"
   ]
  },
  {
   "cell_type": "code",
   "execution_count": 31,
   "id": "52caa3ed-e578-451a-ad9e-25d6b69a7ce6",
   "metadata": {},
   "outputs": [
    {
     "name": "stdout",
     "output_type": "stream",
     "text": [
      "                 Player  xg_per_shot\n",
      "57          John McGinn     0.125000\n",
      "47       James Maddison     0.110345\n",
      "52    James Ward-Prowse     0.104762\n",
      "2            Alex Iwobi     0.103922\n",
      "29         Eberechi Eze     0.101220\n",
      "8       Andreas Pereira     0.088462\n",
      "91   Morgan Gibbs-White     0.087143\n",
      "26         Douglas Luiz     0.086364\n",
      "83        Michael Olise     0.083929\n",
      "128             Willian     0.083721\n"
     ]
    }
   ],
   "source": [
    "print(data_s_pl\\\n",
    "    .query('shot_length == \"long\" & season == \"2023-2024\"'\n",
    "        )[[\"Player\", \"xg_per_shot\"]]\\\n",
    "    .sort_values([\"xg_per_shot\"], ascending=False)\\\n",
    "    .head(10))"
   ]
  },
  {
   "cell_type": "markdown",
   "id": "c0d87b12-3244-41f5-b21c-7f6fbcaf4df3",
   "metadata": {},
   "source": [
    "#### Leaderboard for 2023-2024 short-ranged shooting xG"
   ]
  },
  {
   "cell_type": "code",
   "execution_count": 32,
   "id": "73eeac53-7205-407d-b508-6189eaad4749",
   "metadata": {},
   "outputs": [
    {
     "name": "stdout",
     "output_type": "stream",
     "text": [
      "            Player  xg_per_shot\n",
      "32  Erling Haaland     0.202655\n",
      "90   Mohamed Salah     0.144860\n"
     ]
    }
   ],
   "source": [
    "print(data_s_pl\\\n",
    "    .query('shot_length == \"short\" & season == \"2023-2024\"'\n",
    "        )[[\"Player\", \"xg_per_shot\"]]\\\n",
    "    .sort_values([\"xg_per_shot\"], ascending=False)\\\n",
    "    .head(10))"
   ]
  },
  {
   "cell_type": "markdown",
   "id": "712d88ce-f8bd-4bb7-84e9-41461b4ea16e",
   "metadata": {},
   "source": [
    "#### **Analysis and Interpretation**\n",
    "\n",
    "1. **For the 2022-2023 season, long shots**:\n",
    "\n",
    "   The top 10 players with the highest **xG per shot from long-range efforts** during the 2022–2023 season are:\n",
    "\n",
    "   | Player                  | xG per Shot |\n",
    "   |-------------------------|-------------|\n",
    "   | Martin Ødegaard         | 0.1065      |\n",
    "   | Alexis Mac Allister     | 0.0913      |\n",
    "   | Kevin De Bruyne         | 0.0862      |\n",
    "   | Bruno Fernandes         | 0.0856      |\n",
    "   | Demarai Gray            | 0.0825      |\n",
    "   | James Maddison          | 0.0795      |\n",
    "   | Dwight McNeil           | 0.0761      |\n",
    "   | James Ward-Prowse       | 0.0625      |\n",
    "   | Pierre Højbjerg         | 0.0606      |\n",
    "   | Trent Alexander-Arnold  | 0.0600      |\n",
    "\n",
    "   - This list consists largely of midfielders and creative playmakers who often find themselves in advanced shooting positions outside the box.\n",
    "   - **Martin Ødegaard** stands out with the highest xG per shot from distance (0.1065), indicating high shot quality or intelligent shot selection even from long range.\n",
    "   - Players like **James Ward-Prowse** and **Alexander-Arnold**, known for set-pieces and long-range strikes, appear with slightly lower xG values — reflecting either lower shooting frequency or more speculative attempts.\n",
    "\n",
    "2. **For the 2022-2023 season, short shots**:\n",
    "\n",
    "   The top short-range finishers by **xG per shot** are:\n",
    "\n",
    "   | Player        | xG per Shot |\n",
    "   |---------------|-------------|\n",
    "   | Mohamed Salah | 0.1529      |\n",
    "   | Harry Kane    | 0.1347      |\n",
    "   | Daniel James  | 0.0000      |\n",
    "\n",
    "   - **Mohamed Salah** leads the group with a high short-shot xG, reflecting his consistent ability to get into excellent scoring positions near goal.\n",
    "   - **Harry Kane** follows closely, reinforcing his status as a composed and efficient finisher in the penalty area.\n",
    "   - The 0.000 xG value for **Daniel James** likely reflects very few or extremely low-quality short-range shots, suggesting limited involvement in high-probability scoring areas.\n",
    "\n",
    "3. **For the 2023-2024 season, long shots**:\n",
    "\n",
    "   The top 10 players with the highest **xG per long shot** in the 2023–2024 season are:\n",
    "\n",
    "   | Player                  | xG per Shot |\n",
    "   |-------------------------|-------------|\n",
    "   | John McGinn             | 0.1250      |\n",
    "   | James Maddison          | 0.1103      |\n",
    "   | James Ward-Prowse       | 0.1048      |\n",
    "   | Alex Iwobi              | 0.1039      |\n",
    "   | Eberechi Eze            | 0.1012      |\n",
    "   | Andreas Pereira         | 0.0885      |\n",
    "   | Morgan Gibbs-White      | 0.0871      |\n",
    "   | Douglas Luiz            | 0.0864      |\n",
    "   | Michael Olise           | 0.0839      |\n",
    "   | Willian                 | 0.0837      |\n",
    "\n",
    "   - **John McGinn** claims the top spot with a surprisingly high xG per long shot (0.1250), suggesting a more central shooting role or improved shot selection this season.\n",
    "   - Notably, **Maddison**, **Ward-Prowse**, and **Eze** are repeat names, showing sustained quality in long-range shooting across seasons.\n",
    "   - The spread of values indicates more shot consistency in long-range players this season compared to 2022–2023.\n",
    "\n",
    "4. **For the 2023-2024 season, short shots**:\n",
    "\n",
    "   The leading players for **short-range xG per shot** are:\n",
    "\n",
    "   | Player         | xG per Shot |\n",
    "   |----------------|-------------|\n",
    "   | Erling Haaland | 0.2027      |\n",
    "   | Mohamed Salah  | 0.1449      |\n",
    "\n",
    "   - **Erling Haaland** dominates with a massive xG per shot of 0.2027 — a figure that reflects not just his elite finishing but also the extremely high-value chances he receives (i.e., close-range tap-ins or shots within the 6-yard box).\n",
    "   - **Mohamed Salah** maintains his strong performance from the prior season, reinforcing his consistency and intelligent positioning in high xG areas.\n",
    "   - The smaller sample size of top short shooters highlights how few players consistently generate elite-quality close-range chances.\n",
    "\n",
    "---\n",
    "\n",
    "#### **Key Insights**\n",
    "\n",
    "1. **Long Shots**:\n",
    "   - The xG per shot for long-range efforts tends to be lower overall, which is expected due to the increased difficulty and lower conversion rates from distance.\n",
    "   - That said, players like **Ward-Prowse**, **Maddison**, and **De Bruyne** are consistently in the top ranks, demonstrating not just shot volume but also efficient shot selection.\n",
    "   - **John McGinn’s** emergence at the top in 2023–2024 marks a notable improvement and could reflect a tactical shift or increased confidence in shooting from distance.\n",
    "\n",
    "2. **Short Shots**:\n",
    "   - Short-range shooting shows higher and more stable xG values across both seasons, with stars like **Salah** and **Kane** regularly appearing at the top.\n",
    "   - **Erling Haaland’s** extraordinary xG per short shot in 2023–2024 (0.2027) underscores his elite goal-scoring profile — not just through volume but through the sheer quality of chances.\n",
    "\n",
    "3. **Evolution and Stability**:\n",
    "   - The repeated presence of players like **Salah**, **Maddison**, and **Ward-Prowse** across seasons indicates strong year-over-year reliability.\n",
    "   - Compared to long-range efforts, **short shots exhibit stronger correlation** and predictive power, reinforcing earlier analyses that suggest **xG from short-range shots is more stable over time**.\n",
    "   - These insights align with the heatmap and scatterplot findings: **short shots provide a more consistent and reliable metric when analyzing xG trends**, while **long shots exhibit higher variance and are more influenced by external situational factors**."
   ]
  },
  {
   "cell_type": "markdown",
   "id": "cf437f07-f713-4bfa-8eb2-d06752cb2c7a",
   "metadata": {},
   "source": [
    "#### xG values for Martin Ødegaard and Alexis Mac Allister across different seasons."
   ]
  },
  {
   "cell_type": "code",
   "execution_count": 33,
   "id": "b4570f0d-f9b4-4dd9-96e0-596f7bf469f7",
   "metadata": {},
   "outputs": [
    {
     "name": "stdout",
     "output_type": "stream",
     "text": [
      "   shot_length               Player     season  xg_per_shot  xg_per_shot_last\n",
      "4         long  Alexis Mac Allister  2022-2023     0.091250          0.070175\n",
      "5         long  Alexis Mac Allister  2023-2024     0.067442          0.091250\n",
      "76        long      Martin Ødegaard  2022-2023     0.106452          0.090566\n",
      "77        long      Martin Ødegaard  2023-2024     0.077333          0.106452\n",
      "78        long      Martin Ødegaard  2024-2025     0.087879          0.077333\n"
     ]
    }
   ],
   "source": [
    "print(data_s_pl[[\"shot_length\", \"Player\",\n",
    "                 \"season\", \"xg_per_shot\", \"xg_per_shot_last\"]] \\\n",
    "      .query('Player == \"Martin Ødegaard\" | Player == \"Alexis Mac Allister\"') \\\n",
    "      .sort_values([\"Player\", \"shot_length\", \"season\"]) \\\n",
    "      .to_string())"
   ]
  },
  {
   "cell_type": "markdown",
   "id": "8368bb23-8c17-4791-947e-4cfdadfe5efa",
   "metadata": {},
   "source": [
    "#### **Analysis and Interpretation**\n",
    "\n",
    "The printed output shows the **xG per shot** values for **Martin Ødegaard** and **Alexis Mac Allister** across multiple seasons for **long-range shooting**.\n",
    "\n",
    "#### **For Martin Ødegaard**:\n",
    "- In **2022–2023**, his xG per long shot was **0.1065**, slightly up from the previous season’s **0.0906**, suggesting an improvement in either shot selection or quality.\n",
    "- In **2023–2024**, his xG per long shot **dropped to 0.0773**, indicating either a tendency toward lower-quality chances from distance or more speculative efforts.\n",
    "- In **2024–2025**, there’s a mild rebound to **0.0879**, but it still remains below his peak in 2022–2023.\n",
    "\n",
    "#### **For Alexis Mac Allister**:\n",
    "- In **2022–2023**, he posted a solid xG per shot of **0.0913**, up from **0.0702** the season before.\n",
    "- However, in **2023–2024**, his long shot xG dropped to **0.0674**, reversing the gains made the previous season.\n",
    "\n",
    "---\n",
    "\n",
    "#### **Key Insights**\n",
    "- Both players show **some volatility** in xG per shot from long-range efforts across seasons, with **Martin Ødegaard** peaking in 2022–2023 and **Alexis Mac Allister** in the same season.\n",
    "- Ødegaard’s fluctuations suggest changes in shot quality or positioning rather than pure shot volume, as his xG decreased in 2023–2024 before slightly recovering.\n",
    "- For Mac Allister, the 2023–2024 decline may reflect a tactical role change, decreased shot volume, or less optimal shot locations.\n",
    "- **xG per shot reflects shot quality**. So, rising xG suggests **higher-quality chances**, while a decline could signal **more speculative shooting** or reduced attacking involvement.\n"
   ]
  },
  {
   "cell_type": "markdown",
   "id": "0bc3d4a0-4be9-4d70-afe9-213befb1ab17",
   "metadata": {},
   "source": [
    "#### xG values for Mohamed Salah and Harry Kane across different seasons (Short Shots)."
   ]
  },
  {
   "cell_type": "code",
   "execution_count": 34,
   "id": "a1aebeed-7f62-4aa0-8d20-192f52be8bb8",
   "metadata": {},
   "outputs": [
    {
     "name": "stdout",
     "output_type": "stream",
     "text": [
      "   shot_length         Player     season  xg_per_shot  xg_per_shot_last\n",
      "39       short     Harry Kane  2022-2023     0.134677          0.119380\n",
      "85       short  Mohamed Salah  2018-2019     0.133582          0.159155\n",
      "86       short  Mohamed Salah  2019-2020     0.128682          0.133582\n",
      "87       short  Mohamed Salah  2020-2021     0.121667          0.128682\n",
      "88       short  Mohamed Salah  2021-2022     0.133835          0.121667\n",
      "89       short  Mohamed Salah  2022-2023     0.152893          0.133835\n",
      "90       short  Mohamed Salah  2023-2024     0.144860          0.152893\n"
     ]
    }
   ],
   "source": [
    "print(data_s_pl[[\"shot_length\", \"Player\", \"season\", \"xg_per_shot\", \"xg_per_shot_last\"]] \\\n",
    "    .query('(Player == \"Mohamed Salah\" | Player == \"Harry Kane\") and shot_length == \"short\"') \\\n",
    "    .sort_values([\"Player\", \"shot_length\", \"season\"]) \\\n",
    "    .to_string())"
   ]
  },
  {
   "cell_type": "markdown",
   "id": "0e6abae3-e5f7-4c75-a7e6-2cc1bca8aa57",
   "metadata": {},
   "source": [
    "#### **Analysis and Interpretation**\n",
    "\n",
    "- **Summary:** This table presents the **expected goals per shot (xG per shot)** for **short-range attempts** by **Mohamed Salah** and **Harry Kane** across several seasons.\n",
    "\n",
    "---\n",
    "\n",
    "#### **For Mohamed Salah**:\n",
    "- Salah’s xG per short shot shows **high consistency** with values ranging from **0.1217 to 0.1529** across **six consecutive seasons**.\n",
    "- After a slight dip in **2020–2021 (0.1217)**, there's a steady **increase peaking at 0.1529 in 2022–2023**, followed by a slight drop to **0.1449** in 2023–2024.\n",
    "- These values reflect **reliable short-range shot quality**, indicating that Salah continually gets into high-quality shooting positions close to goal.\n",
    "\n",
    "#### **For Harry Kane**:\n",
    "- Although only one season of data is shown (**2022–2023**), his short shot xG per shot is **0.1347**, which is comparable to Salah’s figures, suggesting **elite shot quality** in the box.\n",
    "- The previous season’s xG per shot (from `xg_per_shot_last`) is **0.1194**, indicating an improvement in his short shot efficiency.\n",
    "\n",
    "---\n",
    "\n",
    "#### **Key Insights**\n",
    "- **Mohamed Salah’s** year-on-year performance in short-range finishing is marked by **stability and high-quality chances**, a sign of **excellent positioning and attacking intelligence**.\n",
    "- **Harry Kane**, while limited to a single data point here, also demonstrates **efficient short shot selection**, with an upward trend suggested by his `xg_per_shot_last`.\n",
    "- The **tight range of xG values** (~0.12 to ~0.15) reinforces the idea that **short shots are typically high-percentage opportunities**, and top forwards like Salah and Kane consistently capitalize on them.\n",
    "- In a tactical context, both players can be trusted to **generate and finish high-quality chances in the box**, making them valuable assets for teams relying on central or inside-the-box shot creation."
   ]
  },
  {
   "cell_type": "markdown",
   "id": "ba6c1dde-64dc-4461-aaac-c0bb8d94a356",
   "metadata": {},
   "source": [
    "## **Final Project Takeaways:**\n",
    "- **Mid-range shots (10-25 yards) are the most common**, aligning with the optimal shooting distances in football.\n",
    "- **Few extremely short or long shots** are attempted, indicating that players tend to take shots from strategic positions.\n",
    "- **Long-distance shots decrease significantly beyond 25 yards**, showing that players prioritize efficiency over speculative shooting.\n",
    "- **Shot Distance & Consistency:**  \n",
    "  Short-range shots demonstrate significantly more **consistency in xG per shot** across seasons compared to long-range efforts, which are more prone to fluctuation.\n",
    "\n",
    "- **Predictive Value:**  \n",
    "  **Past xG performance on short shots** is a much stronger indicator of future outcomes than it is for long shots, making them more **reliable for forecasting player efficiency**.\n",
    "\n",
    "- **Tactical Implications:**  \n",
    "  Teams should prioritize **optimizing short-range shooting opportunities**, as they offer **higher-quality, more predictable chances**.  \n",
    "  Long shots, while occasionally effective, should be approached as **low-probability, high-variance options**—best suited for specific contexts rather than regular strategy."
   ]
  }
 ],
 "metadata": {
  "kernelspec": {
   "display_name": "Python 3 (ipykernel)",
   "language": "python",
   "name": "python3"
  },
  "language_info": {
   "codemirror_mode": {
    "name": "ipython",
    "version": 3
   },
   "file_extension": ".py",
   "mimetype": "text/x-python",
   "name": "python",
   "nbconvert_exporter": "python",
   "pygments_lexer": "ipython3",
   "version": "3.10.12"
  }
 },
 "nbformat": 4,
 "nbformat_minor": 5
}
